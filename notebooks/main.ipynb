{
 "cells": [
  {
   "cell_type": "markdown",
   "id": "7bf39883",
   "metadata": {},
   "source": [
    "__Author__: Ryan Tang Li Jian"
   ]
  },
  {
   "cell_type": "markdown",
   "id": "2276d734",
   "metadata": {},
   "source": [
    "# Problem Framing"
   ]
  },
  {
   "cell_type": "markdown",
   "id": "e9423315",
   "metadata": {},
   "source": [
    "Churn Definition\n",
    "- A member is considered churned if they haven’t made any transactions in the last 90 days from the point of analysis.\n",
    "\n",
    "Prediction Goal\n",
    "- Our main objective is to predict the probability that a currently active member will churn in the next 3 months.\n",
    "- This forward-looking view allows us to proactively identify and engage at-risk users before they drop off.\n",
    "\n",
    "Evaluation Strategy\n",
    "- To ensure that our model performs well not just technically but also from a business lens, we’ll evaluate it in three layers:\n",
    "    - Primary Metric: AUC-ROC\n",
    "        - This helps us understand how well the model distinguishes between users who will churn vs those who won’t.\n",
    "        - AUC-ROC is useful because it gives a balanced view of performance across all classification thresholds.\n",
    "    - Secondary Metric: Precision-Recall Curve\n",
    "        - Since churn data is often imbalanced (more non-churned than churned, well dependds on the business), this curve helps us assess how precise the model is when it predicts churn, and how many of the actual churned users it captures.\n",
    "    - Business Metric: Precision at Top 20%\n",
    "        - From a campaign or retention perspective, we care most about the top segment of users most at risk.\n",
    "        - Precision@20% shows us, out of the 20% most at-risk users (based on predicted scores), how many truly churned.\n",
    "        - This is especially useful for prioritising interventions, like targeted retention emails or loyalty offers.\n",
    "\n",
    "it's 2 am in the morning so i just focusedo n the AUC"
   ]
  },
  {
   "cell_type": "markdown",
   "id": "459d537f",
   "metadata": {},
   "source": [
    "# Environment Setup"
   ]
  },
  {
   "cell_type": "code",
   "execution_count": 196,
   "id": "ee697a4f",
   "metadata": {},
   "outputs": [],
   "source": [
    "import sys\n",
    "import os\n",
    "from pathlib import Path\n",
    "\"\"\"\n",
    "The code within '/scripts' have been used across multiple personal projects that I have written so it may \n",
    "include functions or configurations that are not applicable in this case, but they just make it easier for me to set things up （￣︶￣）↗\n",
    "\"\"\"\n",
    "\n",
    "# Problem Statement: Get the path to the 'scripts' directory, due to the structure of the folders, we will need to import the path, so \n",
    "# that the jupyter notebook can find the corresponding directory, if this extends, should create a packages instead to be installed\n",
    "code_path = os.path.abspath('../scripts')\n",
    "if code_path not in sys.path:\n",
    "    sys.path.insert(0, code_path)"
   ]
  },
  {
   "cell_type": "code",
   "execution_count": 197,
   "id": "622e45bf",
   "metadata": {
    "vscode": {
     "languageId": "shellscript"
    }
   },
   "outputs": [
    {
     "ename": "SyntaxError",
     "evalue": "invalid syntax (1343212442.py, line 2)",
     "output_type": "error",
     "traceback": [
      "\u001b[1;36m  Cell \u001b[1;32mIn[197], line 2\u001b[1;36m\u001b[0m\n\u001b[1;33m    conda env create -f ../environment.yml\u001b[0m\n\u001b[1;37m          ^\u001b[0m\n\u001b[1;31mSyntaxError\u001b[0m\u001b[1;31m:\u001b[0m invalid syntax\n"
     ]
    }
   ],
   "source": [
    "# Install the environment file to run this\n",
    "conda env create -f ../environment.yml\n",
    "conda activate bonuslink"
   ]
  },
  {
   "cell_type": "markdown",
   "id": "cb35d033",
   "metadata": {},
   "source": [
    "Most of my analysis will be done in Polars, as it's my preferred tool for quick data exploration—especially when working with relatively larger datasets. It offers key advantages like multithreaded processing and a cleaner, more concise syntax, which make it easier for me to perform my analysis. (●'◡'●)\n",
    "\n",
    "Any extra needed visualisation and etc will be done in pandas instead due to its vast incoporation with other pacakges."
   ]
  },
  {
   "cell_type": "code",
   "execution_count": null,
   "id": "1923ed50",
   "metadata": {},
   "outputs": [],
   "source": [
    "import polars as pl\n",
    "import pandas as pd\n",
    "import seaborn as sns\n",
    "import matplotlib.pyplot as plt\n",
    "import pendulum\n",
    "from polars_parquet_reader import PolarsParquetReader\n",
    "from file_system import FileSystem"
   ]
  },
  {
   "cell_type": "code",
   "execution_count": 218,
   "id": "0d1b2851",
   "metadata": {},
   "outputs": [],
   "source": [
    "main_path = Path(os.getcwd())\n",
    "checkpoint_data_path = main_path.parent.joinpath(\"data\", \"checkpoint\")\n",
    "train_data_path = main_path.parent.joinpath(\"data\", \"train\")"
   ]
  },
  {
   "cell_type": "code",
   "execution_count": 219,
   "id": "5b119c57",
   "metadata": {},
   "outputs": [
    {
     "data": {
      "text/plain": [
       "<polars.config.Config at 0x266a8c64520>"
      ]
     },
     "execution_count": 219,
     "metadata": {},
     "output_type": "execute_result"
    }
   ],
   "source": [
    "pl.Config(tbl_cols=-1, tbl_rows=-1)"
   ]
  },
  {
   "cell_type": "code",
   "execution_count": 220,
   "id": "03602b70",
   "metadata": {},
   "outputs": [],
   "source": [
    "pr = PolarsParquetReader()\n",
    "fs = FileSystem()"
   ]
  },
  {
   "cell_type": "code",
   "execution_count": 221,
   "id": "d20dcde3",
   "metadata": {},
   "outputs": [],
   "source": [
    "members_df = pl.read_csv(\"../data/members.csv\").lazy() \\\n",
    "    .with_columns(\n",
    "        pl.col(\"signup_date\").str.to_date().alias(\"signup_date\")\n",
    "    )\n",
    "merchants_df = pl.read_csv(\"../data/merchants.csv\").lazy() \\\n",
    "    .with_columns(\n",
    "        pl.col(\"join_date\").str.to_date().alias(\"join_date\")\n",
    "    )\n",
    "transactions_df = pl.read_csv(\"../data/transactions.csv\").lazy() \\\n",
    "    .with_columns(\n",
    "        pl.col(\"timestamp\").str.to_date().alias(\"timestamp\")\n",
    "    )\n",
    "engagement_df = pl.read_csv(\"../data/engagement.csv\").lazy()"
   ]
  },
  {
   "cell_type": "markdown",
   "id": "6705e133",
   "metadata": {},
   "source": [
    "Just Performing a Quick Exploration of the Dataset"
   ]
  },
  {
   "cell_type": "code",
   "execution_count": 222,
   "id": "6c564d9f",
   "metadata": {},
   "outputs": [
    {
     "name": "stdout",
     "output_type": "stream",
     "text": [
      "members_df: (500, 5)\n",
      "merchants_df: (20, 5)\n",
      "transactions_df: (3000, 5)\n",
      "engagement_df: (500, 4)\n"
     ]
    }
   ],
   "source": [
    "print(f\"members_df: {members_df.collect().shape}\")\n",
    "print(f\"merchants_df: {merchants_df.collect().shape}\")\n",
    "print(f\"transactions_df: {transactions_df.collect().shape}\")\n",
    "print(f\"engagement_df: {engagement_df.collect().shape}\")"
   ]
  },
  {
   "cell_type": "code",
   "execution_count": 223,
   "id": "36304208",
   "metadata": {},
   "outputs": [
    {
     "data": {
      "text/html": [
       "<div><style>\n",
       ".dataframe > thead > tr,\n",
       ".dataframe > tbody > tr {\n",
       "  text-align: right;\n",
       "  white-space: pre-wrap;\n",
       "}\n",
       "</style>\n",
       "<small>shape: (5, 5)</small><table border=\"1\" class=\"dataframe\"><thead><tr><th>member_id</th><th>signup_date</th><th>tier</th><th>age_group</th><th>state</th></tr><tr><td>str</td><td>date</td><td>str</td><td>str</td><td>str</td></tr></thead><tbody><tr><td>&quot;M0001&quot;</td><td>2022-04-13</td><td>&quot;Gold&quot;</td><td>&quot;55+&quot;</td><td>&quot;Sabah&quot;</td></tr><tr><td>&quot;M0002&quot;</td><td>2022-12-15</td><td>&quot;Silver&quot;</td><td>&quot;18-24&quot;</td><td>&quot;Penang&quot;</td></tr><tr><td>&quot;M0003&quot;</td><td>2022-09-28</td><td>&quot;Silver&quot;</td><td>&quot;55+&quot;</td><td>&quot;Kuala Lumpur&quot;</td></tr><tr><td>&quot;M0004&quot;</td><td>2022-04-17</td><td>&quot;Platinum&quot;</td><td>&quot;55+&quot;</td><td>&quot;Johor&quot;</td></tr><tr><td>&quot;M0005&quot;</td><td>2022-03-13</td><td>&quot;Silver&quot;</td><td>&quot;35-44&quot;</td><td>&quot;Penang&quot;</td></tr></tbody></table></div>"
      ],
      "text/plain": [
       "shape: (5, 5)\n",
       "┌───────────┬─────────────┬──────────┬───────────┬──────────────┐\n",
       "│ member_id ┆ signup_date ┆ tier     ┆ age_group ┆ state        │\n",
       "│ ---       ┆ ---         ┆ ---      ┆ ---       ┆ ---          │\n",
       "│ str       ┆ date        ┆ str      ┆ str       ┆ str          │\n",
       "╞═══════════╪═════════════╪══════════╪═══════════╪══════════════╡\n",
       "│ M0001     ┆ 2022-04-13  ┆ Gold     ┆ 55+       ┆ Sabah        │\n",
       "│ M0002     ┆ 2022-12-15  ┆ Silver   ┆ 18-24     ┆ Penang       │\n",
       "│ M0003     ┆ 2022-09-28  ┆ Silver   ┆ 55+       ┆ Kuala Lumpur │\n",
       "│ M0004     ┆ 2022-04-17  ┆ Platinum ┆ 55+       ┆ Johor        │\n",
       "│ M0005     ┆ 2022-03-13  ┆ Silver   ┆ 35-44     ┆ Penang       │\n",
       "└───────────┴─────────────┴──────────┴───────────┴──────────────┘"
      ]
     },
     "execution_count": 223,
     "metadata": {},
     "output_type": "execute_result"
    }
   ],
   "source": [
    "members_df.collect().head(5)"
   ]
  },
  {
   "cell_type": "code",
   "execution_count": 224,
   "id": "f43cb28c",
   "metadata": {},
   "outputs": [
    {
     "data": {
      "text/html": [
       "<div><style>\n",
       ".dataframe > thead > tr,\n",
       ".dataframe > tbody > tr {\n",
       "  text-align: right;\n",
       "  white-space: pre-wrap;\n",
       "}\n",
       "</style>\n",
       "<small>shape: (3, 2)</small><table border=\"1\" class=\"dataframe\"><thead><tr><th>tier</th><th>len</th></tr><tr><td>str</td><td>u32</td></tr></thead><tbody><tr><td>&quot;Silver&quot;</td><td>303</td></tr><tr><td>&quot;Gold&quot;</td><td>138</td></tr><tr><td>&quot;Platinum&quot;</td><td>59</td></tr></tbody></table></div>"
      ],
      "text/plain": [
       "shape: (3, 2)\n",
       "┌──────────┬─────┐\n",
       "│ tier     ┆ len │\n",
       "│ ---      ┆ --- │\n",
       "│ str      ┆ u32 │\n",
       "╞══════════╪═════╡\n",
       "│ Silver   ┆ 303 │\n",
       "│ Gold     ┆ 138 │\n",
       "│ Platinum ┆ 59  │\n",
       "└──────────┴─────┘"
      ]
     },
     "execution_count": 224,
     "metadata": {},
     "output_type": "execute_result"
    }
   ],
   "source": [
    "members_df.group_by(\"tier\").len().sort(\"len\", descending=True).collect().head()"
   ]
  },
  {
   "cell_type": "code",
   "execution_count": 225,
   "id": "a44864a8",
   "metadata": {},
   "outputs": [
    {
     "data": {
      "text/html": [
       "<div><style>\n",
       ".dataframe > thead > tr,\n",
       ".dataframe > tbody > tr {\n",
       "  text-align: right;\n",
       "  white-space: pre-wrap;\n",
       "}\n",
       "</style>\n",
       "<small>shape: (1, 5)</small><table border=\"1\" class=\"dataframe\"><thead><tr><th>member_id</th><th>signup_date</th><th>tier</th><th>age_group</th><th>state</th></tr><tr><td>u32</td><td>u32</td><td>u32</td><td>u32</td><td>u32</td></tr></thead><tbody><tr><td>0</td><td>0</td><td>0</td><td>0</td><td>0</td></tr></tbody></table></div>"
      ],
      "text/plain": [
       "shape: (1, 5)\n",
       "┌───────────┬─────────────┬──────┬───────────┬───────┐\n",
       "│ member_id ┆ signup_date ┆ tier ┆ age_group ┆ state │\n",
       "│ ---       ┆ ---         ┆ ---  ┆ ---       ┆ ---   │\n",
       "│ u32       ┆ u32         ┆ u32  ┆ u32       ┆ u32   │\n",
       "╞═══════════╪═════════════╪══════╪═══════════╪═══════╡\n",
       "│ 0         ┆ 0           ┆ 0    ┆ 0         ┆ 0     │\n",
       "└───────────┴─────────────┴──────┴───────────┴───────┘"
      ]
     },
     "execution_count": 225,
     "metadata": {},
     "output_type": "execute_result"
    }
   ],
   "source": [
    "members_df.null_count().collect() # check for nulls"
   ]
  },
  {
   "cell_type": "code",
   "execution_count": 226,
   "id": "0eee13df",
   "metadata": {},
   "outputs": [
    {
     "data": {
      "text/html": [
       "<div><style>\n",
       ".dataframe > thead > tr,\n",
       ".dataframe > tbody > tr {\n",
       "  text-align: right;\n",
       "  white-space: pre-wrap;\n",
       "}\n",
       "</style>\n",
       "<small>shape: (1, 2)</small><table border=\"1\" class=\"dataframe\"><thead><tr><th>min_date</th><th>max_date</th></tr><tr><td>date</td><td>date</td></tr></thead><tbody><tr><td>2022-01-01</td><td>2022-12-31</td></tr></tbody></table></div>"
      ],
      "text/plain": [
       "shape: (1, 2)\n",
       "┌────────────┬────────────┐\n",
       "│ min_date   ┆ max_date   │\n",
       "│ ---        ┆ ---        │\n",
       "│ date       ┆ date       │\n",
       "╞════════════╪════════════╡\n",
       "│ 2022-01-01 ┆ 2022-12-31 │\n",
       "└────────────┴────────────┘"
      ]
     },
     "execution_count": 226,
     "metadata": {},
     "output_type": "execute_result"
    }
   ],
   "source": [
    "members_df \\\n",
    "    .select(\n",
    "        pl.min(\"signup_date\").alias(\"min_date\"),\n",
    "        pl.max(\"signup_date\").alias(\"max_date\")\n",
    "    ) \\\n",
    "    .collect() \\\n",
    "    .head()"
   ]
  },
  {
   "cell_type": "code",
   "execution_count": 227,
   "id": "a5411b1e",
   "metadata": {},
   "outputs": [
    {
     "data": {
      "image/png": "[encoded data removed]",
      "text/plain": [
       "<Figure size 640x480 with 1 Axes>"
      ]
     },
     "metadata": {},
     "output_type": "display_data"
    },
    {
     "data": {
      "image/png": "[encoded data removed]",
      "text/plain": [
       "<Figure size 640x480 with 1 Axes>"
      ]
     },
     "metadata": {},
     "output_type": "display_data"
    }
   ],
   "source": [
    "members_df \\\n",
    "    .group_by(\n",
    "        \"age_group\"\n",
    "    ) \\\n",
    "    .len() \\\n",
    "    .sort(\"len\", descending=True) \\\n",
    "    .collect() \\\n",
    "    .to_pandas() \\\n",
    "    .plot(kind=\"bar\", title=\"Age Group Distribution\", x=\"age_group\", y=\"len\")\n",
    "\n",
    "members_df \\\n",
    "    .group_by(\n",
    "        \"state\"\n",
    "    ) \\\n",
    "    .len() \\\n",
    "    .sort(\"len\", descending=True) \\\n",
    "    .collect() \\\n",
    "    .to_pandas() \\\n",
    "    .plot(kind=\"bar\", title=\"State Distribution\", x=\"state\", y=\"len\")\n",
    "plt.tight_layout()"
   ]
  },
  {
   "cell_type": "code",
   "execution_count": 228,
   "id": "37b29f7c",
   "metadata": {},
   "outputs": [
    {
     "data": {
      "text/html": [
       "<div><style>\n",
       ".dataframe > thead > tr,\n",
       ".dataframe > tbody > tr {\n",
       "  text-align: right;\n",
       "  white-space: pre-wrap;\n",
       "}\n",
       "</style>\n",
       "<small>shape: (5, 5)</small><table border=\"1\" class=\"dataframe\"><thead><tr><th>merchant_id</th><th>merchant_name</th><th>category</th><th>location</th><th>join_date</th></tr><tr><td>str</td><td>str</td><td>str</td><td>str</td><td>date</td></tr></thead><tbody><tr><td>&quot;MER001&quot;</td><td>&quot;Merchant_1&quot;</td><td>&quot;eCommerce&quot;</td><td>&quot;Penang&quot;</td><td>2022-04-11</td></tr><tr><td>&quot;MER002&quot;</td><td>&quot;Merchant_2&quot;</td><td>&quot;eCommerce&quot;</td><td>&quot;PJ&quot;</td><td>2021-11-07</td></tr><tr><td>&quot;MER003&quot;</td><td>&quot;Merchant_3&quot;</td><td>&quot;eCommerce&quot;</td><td>&quot;KK&quot;</td><td>2021-09-19</td></tr><tr><td>&quot;MER004&quot;</td><td>&quot;Merchant_4&quot;</td><td>&quot;eCommerce&quot;</td><td>&quot;Penang&quot;</td><td>2022-02-23</td></tr><tr><td>&quot;MER005&quot;</td><td>&quot;Merchant_5&quot;</td><td>&quot;Retail&quot;</td><td>&quot;KL&quot;</td><td>2022-02-10</td></tr></tbody></table></div>"
      ],
      "text/plain": [
       "shape: (5, 5)\n",
       "┌─────────────┬───────────────┬───────────┬──────────┬────────────┐\n",
       "│ merchant_id ┆ merchant_name ┆ category  ┆ location ┆ join_date  │\n",
       "│ ---         ┆ ---           ┆ ---       ┆ ---      ┆ ---        │\n",
       "│ str         ┆ str           ┆ str       ┆ str      ┆ date       │\n",
       "╞═════════════╪═══════════════╪═══════════╪══════════╪════════════╡\n",
       "│ MER001      ┆ Merchant_1    ┆ eCommerce ┆ Penang   ┆ 2022-04-11 │\n",
       "│ MER002      ┆ Merchant_2    ┆ eCommerce ┆ PJ       ┆ 2021-11-07 │\n",
       "│ MER003      ┆ Merchant_3    ┆ eCommerce ┆ KK       ┆ 2021-09-19 │\n",
       "│ MER004      ┆ Merchant_4    ┆ eCommerce ┆ Penang   ┆ 2022-02-23 │\n",
       "│ MER005      ┆ Merchant_5    ┆ Retail    ┆ KL       ┆ 2022-02-10 │\n",
       "└─────────────┴───────────────┴───────────┴──────────┴────────────┘"
      ]
     },
     "execution_count": 228,
     "metadata": {},
     "output_type": "execute_result"
    }
   ],
   "source": [
    "merchants_df.collect().head(5)"
   ]
  },
  {
   "cell_type": "code",
   "execution_count": 229,
   "id": "dbd9d506",
   "metadata": {},
   "outputs": [
    {
     "data": {
      "text/html": [
       "<div><style>\n",
       ".dataframe > thead > tr,\n",
       ".dataframe > tbody > tr {\n",
       "  text-align: right;\n",
       "  white-space: pre-wrap;\n",
       "}\n",
       "</style>\n",
       "<small>shape: (1, 5)</small><table border=\"1\" class=\"dataframe\"><thead><tr><th>merchant_id</th><th>merchant_name</th><th>category</th><th>location</th><th>join_date</th></tr><tr><td>u32</td><td>u32</td><td>u32</td><td>u32</td><td>u32</td></tr></thead><tbody><tr><td>0</td><td>0</td><td>0</td><td>0</td><td>0</td></tr></tbody></table></div>"
      ],
      "text/plain": [
       "shape: (1, 5)\n",
       "┌─────────────┬───────────────┬──────────┬──────────┬───────────┐\n",
       "│ merchant_id ┆ merchant_name ┆ category ┆ location ┆ join_date │\n",
       "│ ---         ┆ ---           ┆ ---      ┆ ---      ┆ ---       │\n",
       "│ u32         ┆ u32           ┆ u32      ┆ u32      ┆ u32       │\n",
       "╞═════════════╪═══════════════╪══════════╪══════════╪═══════════╡\n",
       "│ 0           ┆ 0             ┆ 0        ┆ 0        ┆ 0         │\n",
       "└─────────────┴───────────────┴──────────┴──────────┴───────────┘"
      ]
     },
     "execution_count": 229,
     "metadata": {},
     "output_type": "execute_result"
    }
   ],
   "source": [
    "merchants_df.null_count().collect() # check for nulls"
   ]
  },
  {
   "cell_type": "code",
   "execution_count": 230,
   "id": "9d82c37e",
   "metadata": {},
   "outputs": [
    {
     "data": {
      "text/html": [
       "<div><style>\n",
       ".dataframe > thead > tr,\n",
       ".dataframe > tbody > tr {\n",
       "  text-align: right;\n",
       "  white-space: pre-wrap;\n",
       "}\n",
       "</style>\n",
       "<small>shape: (5, 5)</small><table border=\"1\" class=\"dataframe\"><thead><tr><th>transaction_id</th><th>member_id</th><th>merchant_id</th><th>spend_amount</th><th>timestamp</th></tr><tr><td>str</td><td>str</td><td>str</td><td>f64</td><td>date</td></tr></thead><tbody><tr><td>&quot;T00001&quot;</td><td>&quot;M0076&quot;</td><td>&quot;MER010&quot;</td><td>9.76</td><td>2023-06-07</td></tr><tr><td>&quot;T00002&quot;</td><td>&quot;M0385&quot;</td><td>&quot;MER010&quot;</td><td>5.81</td><td>2023-05-14</td></tr><tr><td>&quot;T00003&quot;</td><td>&quot;M0439&quot;</td><td>&quot;MER020&quot;</td><td>41.85</td><td>2023-03-08</td></tr><tr><td>&quot;T00004&quot;</td><td>&quot;M0278&quot;</td><td>&quot;MER009&quot;</td><td>131.79</td><td>2023-12-02</td></tr><tr><td>&quot;T00005&quot;</td><td>&quot;M0040&quot;</td><td>&quot;MER017&quot;</td><td>2.82</td><td>2023-01-07</td></tr></tbody></table></div>"
      ],
      "text/plain": [
       "shape: (5, 5)\n",
       "┌────────────────┬───────────┬─────────────┬──────────────┬────────────┐\n",
       "│ transaction_id ┆ member_id ┆ merchant_id ┆ spend_amount ┆ timestamp  │\n",
       "│ ---            ┆ ---       ┆ ---         ┆ ---          ┆ ---        │\n",
       "│ str            ┆ str       ┆ str         ┆ f64          ┆ date       │\n",
       "╞════════════════╪═══════════╪═════════════╪══════════════╪════════════╡\n",
       "│ T00001         ┆ M0076     ┆ MER010      ┆ 9.76         ┆ 2023-06-07 │\n",
       "│ T00002         ┆ M0385     ┆ MER010      ┆ 5.81         ┆ 2023-05-14 │\n",
       "│ T00003         ┆ M0439     ┆ MER020      ┆ 41.85        ┆ 2023-03-08 │\n",
       "│ T00004         ┆ M0278     ┆ MER009      ┆ 131.79       ┆ 2023-12-02 │\n",
       "│ T00005         ┆ M0040     ┆ MER017      ┆ 2.82         ┆ 2023-01-07 │\n",
       "└────────────────┴───────────┴─────────────┴──────────────┴────────────┘"
      ]
     },
     "execution_count": 230,
     "metadata": {},
     "output_type": "execute_result"
    }
   ],
   "source": [
    "transactions_df.collect().head(5)"
   ]
  },
  {
   "cell_type": "code",
   "execution_count": 231,
   "id": "dba12119",
   "metadata": {},
   "outputs": [
    {
     "data": {
      "text/html": [
       "<div><style>\n",
       ".dataframe > thead > tr,\n",
       ".dataframe > tbody > tr {\n",
       "  text-align: right;\n",
       "  white-space: pre-wrap;\n",
       "}\n",
       "</style>\n",
       "<small>shape: (1, 2)</small><table border=\"1\" class=\"dataframe\"><thead><tr><th>min_date</th><th>max_date</th></tr><tr><td>date</td><td>date</td></tr></thead><tbody><tr><td>2023-01-01</td><td>2023-12-31</td></tr></tbody></table></div>"
      ],
      "text/plain": [
       "shape: (1, 2)\n",
       "┌────────────┬────────────┐\n",
       "│ min_date   ┆ max_date   │\n",
       "│ ---        ┆ ---        │\n",
       "│ date       ┆ date       │\n",
       "╞════════════╪════════════╡\n",
       "│ 2023-01-01 ┆ 2023-12-31 │\n",
       "└────────────┴────────────┘"
      ]
     },
     "execution_count": 231,
     "metadata": {},
     "output_type": "execute_result"
    }
   ],
   "source": [
    "transactions_df \\\n",
    "    .select(\n",
    "        pl.min(\"timestamp\").alias(\"min_date\"),\n",
    "        pl.max(\"timestamp\").alias(\"max_date\")\n",
    "    ) \\\n",
    "    .collect() \\\n",
    "    .head()"
   ]
  },
  {
   "cell_type": "code",
   "execution_count": 232,
   "id": "008acd02",
   "metadata": {},
   "outputs": [
    {
     "data": {
      "text/html": [
       "<div><style>\n",
       ".dataframe > thead > tr,\n",
       ".dataframe > tbody > tr {\n",
       "  text-align: right;\n",
       "  white-space: pre-wrap;\n",
       "}\n",
       "</style>\n",
       "<small>shape: (1, 5)</small><table border=\"1\" class=\"dataframe\"><thead><tr><th>transaction_id</th><th>member_id</th><th>merchant_id</th><th>spend_amount</th><th>timestamp</th></tr><tr><td>u32</td><td>u32</td><td>u32</td><td>u32</td><td>u32</td></tr></thead><tbody><tr><td>0</td><td>0</td><td>0</td><td>0</td><td>0</td></tr></tbody></table></div>"
      ],
      "text/plain": [
       "shape: (1, 5)\n",
       "┌────────────────┬───────────┬─────────────┬──────────────┬───────────┐\n",
       "│ transaction_id ┆ member_id ┆ merchant_id ┆ spend_amount ┆ timestamp │\n",
       "│ ---            ┆ ---       ┆ ---         ┆ ---          ┆ ---       │\n",
       "│ u32            ┆ u32       ┆ u32         ┆ u32          ┆ u32       │\n",
       "╞════════════════╪═══════════╪═════════════╪══════════════╪═══════════╡\n",
       "│ 0              ┆ 0         ┆ 0           ┆ 0            ┆ 0         │\n",
       "└────────────────┴───────────┴─────────────┴──────────────┴───────────┘"
      ]
     },
     "execution_count": 232,
     "metadata": {},
     "output_type": "execute_result"
    }
   ],
   "source": [
    "transactions_df.null_count().collect() # check for nulls"
   ]
  },
  {
   "cell_type": "code",
   "execution_count": 233,
   "id": "d435c172",
   "metadata": {},
   "outputs": [
    {
     "data": {
      "text/html": [
       "<div><style>\n",
       ".dataframe > thead > tr,\n",
       ".dataframe > tbody > tr {\n",
       "  text-align: right;\n",
       "  white-space: pre-wrap;\n",
       "}\n",
       "</style>\n",
       "<small>shape: (5, 4)</small><table border=\"1\" class=\"dataframe\"><thead><tr><th>member_id</th><th>monthly_logins</th><th>redemptions</th><th>app_opens</th></tr><tr><td>str</td><td>i64</td><td>i64</td><td>i64</td></tr></thead><tbody><tr><td>&quot;M0001&quot;</td><td>4</td><td>1</td><td>10</td></tr><tr><td>&quot;M0002&quot;</td><td>4</td><td>1</td><td>7</td></tr><tr><td>&quot;M0003&quot;</td><td>6</td><td>2</td><td>11</td></tr><tr><td>&quot;M0004&quot;</td><td>3</td><td>1</td><td>16</td></tr><tr><td>&quot;M0005&quot;</td><td>3</td><td>1</td><td>7</td></tr></tbody></table></div>"
      ],
      "text/plain": [
       "shape: (5, 4)\n",
       "┌───────────┬────────────────┬─────────────┬───────────┐\n",
       "│ member_id ┆ monthly_logins ┆ redemptions ┆ app_opens │\n",
       "│ ---       ┆ ---            ┆ ---         ┆ ---       │\n",
       "│ str       ┆ i64            ┆ i64         ┆ i64       │\n",
       "╞═══════════╪════════════════╪═════════════╪═══════════╡\n",
       "│ M0001     ┆ 4              ┆ 1           ┆ 10        │\n",
       "│ M0002     ┆ 4              ┆ 1           ┆ 7         │\n",
       "│ M0003     ┆ 6              ┆ 2           ┆ 11        │\n",
       "│ M0004     ┆ 3              ┆ 1           ┆ 16        │\n",
       "│ M0005     ┆ 3              ┆ 1           ┆ 7         │\n",
       "└───────────┴────────────────┴─────────────┴───────────┘"
      ]
     },
     "execution_count": 233,
     "metadata": {},
     "output_type": "execute_result"
    }
   ],
   "source": [
    "engagement_df.collect().head(5)"
   ]
  },
  {
   "cell_type": "code",
   "execution_count": 234,
   "id": "cc6d369e",
   "metadata": {},
   "outputs": [
    {
     "data": {
      "text/html": [
       "<div><style>\n",
       ".dataframe > thead > tr,\n",
       ".dataframe > tbody > tr {\n",
       "  text-align: right;\n",
       "  white-space: pre-wrap;\n",
       "}\n",
       "</style>\n",
       "<small>shape: (1, 4)</small><table border=\"1\" class=\"dataframe\"><thead><tr><th>member_id</th><th>monthly_logins</th><th>redemptions</th><th>app_opens</th></tr><tr><td>u32</td><td>u32</td><td>u32</td><td>u32</td></tr></thead><tbody><tr><td>0</td><td>0</td><td>0</td><td>0</td></tr></tbody></table></div>"
      ],
      "text/plain": [
       "shape: (1, 4)\n",
       "┌───────────┬────────────────┬─────────────┬───────────┐\n",
       "│ member_id ┆ monthly_logins ┆ redemptions ┆ app_opens │\n",
       "│ ---       ┆ ---            ┆ ---         ┆ ---       │\n",
       "│ u32       ┆ u32            ┆ u32         ┆ u32       │\n",
       "╞═══════════╪════════════════╪═════════════╪═══════════╡\n",
       "│ 0         ┆ 0              ┆ 0           ┆ 0         │\n",
       "└───────────┴────────────────┴─────────────┴───────────┘"
      ]
     },
     "execution_count": 234,
     "metadata": {},
     "output_type": "execute_result"
    }
   ],
   "source": [
    "engagement_df.null_count().collect() # check for nulls"
   ]
  },
  {
   "cell_type": "markdown",
   "id": "d8c5bbba",
   "metadata": {},
   "source": [
    "# Feature Engineering"
   ]
  },
  {
   "cell_type": "code",
   "execution_count": 235,
   "id": "3dd58065",
   "metadata": {},
   "outputs": [],
   "source": [
    "# Join the data points tgt\n",
    "master_df = transactions_df \\\n",
    "    .join(\n",
    "        members_df,\n",
    "        on = \"member_id\"\n",
    "    ) \\\n",
    "    .join( # TODO: Don't think this is any useful\n",
    "        merchants_df,\n",
    "        on = \"merchant_id\"\n",
    "    )"
   ]
  },
  {
   "cell_type": "markdown",
   "id": "6040bf98",
   "metadata": {},
   "source": [
    "Adjust the dates accordingly to when we are analysing"
   ]
  },
  {
   "cell_type": "code",
   "execution_count": 236,
   "id": "2acb4e79",
   "metadata": {},
   "outputs": [],
   "source": [
    "analysis_date = pendulum.parse(\"2023-12-31\")\n",
    "churn_threshold_date = analysis_date.subtract(days=90) # 3 months ago"
   ]
  },
  {
   "cell_type": "code",
   "execution_count": 237,
   "id": "2fae706b",
   "metadata": {},
   "outputs": [
    {
     "name": "stdout",
     "output_type": "stream",
     "text": [
      "2023-12-31\n",
      "2023-10-02\n"
     ]
    }
   ],
   "source": [
    "print(analysis_date.to_date_string())\n",
    "print(churn_threshold_date.to_date_string())"
   ]
  },
  {
   "cell_type": "code",
   "execution_count": 238,
   "id": "efdb24a1",
   "metadata": {},
   "outputs": [],
   "source": [
    "transaction_features = transactions_df \\\n",
    "    .with_columns([\n",
    "        (pl.lit(analysis_date.to_date_string()).str.to_date() - pl.col(\"timestamp\")).dt.total_days().alias(\"days_since_transaction\")\n",
    "    ]) \\\n",
    "    .group_by(\n",
    "        \"member_id\"\n",
    "    ) \\\n",
    "    .agg([\n",
    "            # Recency features\n",
    "            pl.col(\"days_since_transaction\").min().alias(\"days_since_last_transaction\"),\n",
    "            pl.col(\"days_since_transaction\").max().alias(\"days_since_first_transaction\"),\n",
    "            \n",
    "            # Frequency features\n",
    "            pl.col(\"transaction_id\").count().alias(\"total_transactions\"),\n",
    "            pl.col(\"timestamp\").n_unique().alias(\"unique_transaction_days\"),\n",
    "            \n",
    "            # Monetary features\n",
    "            pl.col(\"spend_amount\").sum().alias(\"total_spend\"),\n",
    "            pl.col(\"spend_amount\").mean().alias(\"avg_spend_per_transaction\"),\n",
    "            pl.col(\"spend_amount\").std().alias(\"spend_std\"),\n",
    "            pl.col(\"spend_amount\").max().alias(\"max_spend\"),\n",
    "            pl.col(\"spend_amount\").min().alias(\"min_spend\"),\n",
    "            \n",
    "            # Behavioral patterns that users exhibited -> potentially more merchants higher likelihood of staying\n",
    "            pl.col(\"merchant_id\").n_unique().alias(\"unique_merchants\"),\n",
    "            \n",
    "            # Check Recent activity (last 30 days)\n",
    "            pl.col(\"spend_amount\").filter(pl.col(\"days_since_transaction\") <= 30).sum().alias(\"spend_last_30d\"),\n",
    "            pl.col(\"transaction_id\").filter(pl.col(\"days_since_transaction\") <= 30).count().alias(\"transactions_last_30d\"),\n",
    "        ]\n",
    "    )   \n"
   ]
  },
  {
   "cell_type": "code",
   "execution_count": 239,
   "id": "b61dde5b",
   "metadata": {},
   "outputs": [
    {
     "data": {
      "text/html": [
       "<div><style>\n",
       ".dataframe > thead > tr,\n",
       ".dataframe > tbody > tr {\n",
       "  text-align: right;\n",
       "  white-space: pre-wrap;\n",
       "}\n",
       "</style>\n",
       "<small>shape: (5, 13)</small><table border=\"1\" class=\"dataframe\"><thead><tr><th>member_id</th><th>days_since_last_transaction</th><th>days_since_first_transaction</th><th>total_transactions</th><th>unique_transaction_days</th><th>total_spend</th><th>avg_spend_per_transaction</th><th>spend_std</th><th>max_spend</th><th>min_spend</th><th>unique_merchants</th><th>spend_last_30d</th><th>transactions_last_30d</th></tr><tr><td>str</td><td>i64</td><td>i64</td><td>u32</td><td>u32</td><td>f64</td><td>f64</td><td>f64</td><td>f64</td><td>f64</td><td>u32</td><td>f64</td><td>u32</td></tr></thead><tbody><tr><td>&quot;M0035&quot;</td><td>24</td><td>357</td><td>8</td><td>8</td><td>250.6</td><td>31.325</td><td>24.074449</td><td>66.74</td><td>0.1</td><td>7</td><td>66.74</td><td>1</td></tr><tr><td>&quot;M0454&quot;</td><td>19</td><td>216</td><td>4</td><td>4</td><td>355.92</td><td>88.98</td><td>70.030286</td><td>189.54</td><td>39.21</td><td>4</td><td>43.17</td><td>1</td></tr><tr><td>&quot;M0236&quot;</td><td>2</td><td>343</td><td>8</td><td>8</td><td>455.88</td><td>56.985</td><td>60.386811</td><td>146.91</td><td>1.71</td><td>5</td><td>236.13</td><td>2</td></tr><tr><td>&quot;M0100&quot;</td><td>42</td><td>210</td><td>5</td><td>5</td><td>336.89</td><td>67.378</td><td>122.490188</td><td>285.28</td><td>1.04</td><td>3</td><td>0.0</td><td>0</td></tr><tr><td>&quot;M0136&quot;</td><td>323</td><td>360</td><td>2</td><td>2</td><td>102.67</td><td>51.335</td><td>35.546258</td><td>76.47</td><td>26.2</td><td>2</td><td>0.0</td><td>0</td></tr></tbody></table></div>"
      ],
      "text/plain": [
       "shape: (5, 13)\n",
       "┌─────┬─────┬─────┬────────┬───────┬───────┬───────┬───────┬───────┬───────┬───────┬───────┬───────┐\n",
       "│ mem ┆ day ┆ day ┆ total_ ┆ uniqu ┆ total ┆ avg_s ┆ spend ┆ max_s ┆ min_s ┆ uniqu ┆ spend ┆ trans │\n",
       "│ ber ┆ s_s ┆ s_s ┆ transa ┆ e_tra ┆ _spen ┆ pend_ ┆ _std  ┆ pend  ┆ pend  ┆ e_mer ┆ _last ┆ actio │\n",
       "│ _id ┆ inc ┆ inc ┆ ctions ┆ nsact ┆ d     ┆ per_t ┆ ---   ┆ ---   ┆ ---   ┆ chant ┆ _30d  ┆ ns_la │\n",
       "│ --- ┆ e_l ┆ e_f ┆ ---    ┆ ion_d ┆ ---   ┆ ransa ┆ f64   ┆ f64   ┆ f64   ┆ s     ┆ ---   ┆ st_30 │\n",
       "│ str ┆ ast ┆ irs ┆ u32    ┆ ays   ┆ f64   ┆ ction ┆       ┆       ┆       ┆ ---   ┆ f64   ┆ d     │\n",
       "│     ┆ _tr ┆ t_t ┆        ┆ ---   ┆       ┆ ---   ┆       ┆       ┆       ┆ u32   ┆       ┆ ---   │\n",
       "│     ┆ ans ┆ ran ┆        ┆ u32   ┆       ┆ f64   ┆       ┆       ┆       ┆       ┆       ┆ u32   │\n",
       "│     ┆ act ┆ sac ┆        ┆       ┆       ┆       ┆       ┆       ┆       ┆       ┆       ┆       │\n",
       "│     ┆ ion ┆ tio ┆        ┆       ┆       ┆       ┆       ┆       ┆       ┆       ┆       ┆       │\n",
       "│     ┆ --- ┆ n   ┆        ┆       ┆       ┆       ┆       ┆       ┆       ┆       ┆       ┆       │\n",
       "│     ┆ i64 ┆ --- ┆        ┆       ┆       ┆       ┆       ┆       ┆       ┆       ┆       ┆       │\n",
       "│     ┆     ┆ i64 ┆        ┆       ┆       ┆       ┆       ┆       ┆       ┆       ┆       ┆       │\n",
       "╞═════╪═════╪═════╪════════╪═══════╪═══════╪═══════╪═══════╪═══════╪═══════╪═══════╪═══════╪═══════╡\n",
       "│ M00 ┆ 24  ┆ 357 ┆ 8      ┆ 8     ┆ 250.6 ┆ 31.32 ┆ 24.07 ┆ 66.74 ┆ 0.1   ┆ 7     ┆ 66.74 ┆ 1     │\n",
       "│ 35  ┆     ┆     ┆        ┆       ┆       ┆ 5     ┆ 4449  ┆       ┆       ┆       ┆       ┆       │\n",
       "│ M04 ┆ 19  ┆ 216 ┆ 4      ┆ 4     ┆ 355.9 ┆ 88.98 ┆ 70.03 ┆ 189.5 ┆ 39.21 ┆ 4     ┆ 43.17 ┆ 1     │\n",
       "│ 54  ┆     ┆     ┆        ┆       ┆ 2     ┆       ┆ 0286  ┆ 4     ┆       ┆       ┆       ┆       │\n",
       "│ M02 ┆ 2   ┆ 343 ┆ 8      ┆ 8     ┆ 455.8 ┆ 56.98 ┆ 60.38 ┆ 146.9 ┆ 1.71  ┆ 5     ┆ 236.1 ┆ 2     │\n",
       "│ 36  ┆     ┆     ┆        ┆       ┆ 8     ┆ 5     ┆ 6811  ┆ 1     ┆       ┆       ┆ 3     ┆       │\n",
       "│ M01 ┆ 42  ┆ 210 ┆ 5      ┆ 5     ┆ 336.8 ┆ 67.37 ┆ 122.4 ┆ 285.2 ┆ 1.04  ┆ 3     ┆ 0.0   ┆ 0     │\n",
       "│ 00  ┆     ┆     ┆        ┆       ┆ 9     ┆ 8     ┆ 90188 ┆ 8     ┆       ┆       ┆       ┆       │\n",
       "│ M01 ┆ 323 ┆ 360 ┆ 2      ┆ 2     ┆ 102.6 ┆ 51.33 ┆ 35.54 ┆ 76.47 ┆ 26.2  ┆ 2     ┆ 0.0   ┆ 0     │\n",
       "│ 36  ┆     ┆     ┆        ┆       ┆ 7     ┆ 5     ┆ 6258  ┆       ┆       ┆       ┆       ┆       │\n",
       "└─────┴─────┴─────┴────────┴───────┴───────┴───────┴───────┴───────┴───────┴───────┴───────┴───────┘"
      ]
     },
     "execution_count": 239,
     "metadata": {},
     "output_type": "execute_result"
    }
   ],
   "source": [
    "transaction_features.collect().head()"
   ]
  },
  {
   "cell_type": "code",
   "execution_count": 240,
   "id": "6b13a27e",
   "metadata": {},
   "outputs": [],
   "source": [
    "member_features = members_df.with_columns([\n",
    "    (pl.lit(analysis_date.to_date_string()).str.to_date() - pl.col(\"signup_date\")).dt.total_days().alias(\"end_to_start_days\"),\n",
    "    pl.col(\"tier\").map_elements(\n",
    "        lambda x: {\"Silver\": 1, \"Gold\": 2, \"Platinum\": 3}.get(x, 1), \n",
    "        return_dtype=pl.Int32\n",
    "    ).alias(\"tier_numeric\")\n",
    "    # Mapy it to numeric to make better for processing\n",
    "])"
   ]
  },
  {
   "cell_type": "code",
   "execution_count": 241,
   "id": "a999f3db",
   "metadata": {},
   "outputs": [
    {
     "data": {
      "text/html": [
       "<div><style>\n",
       ".dataframe > thead > tr,\n",
       ".dataframe > tbody > tr {\n",
       "  text-align: right;\n",
       "  white-space: pre-wrap;\n",
       "}\n",
       "</style>\n",
       "<small>shape: (5, 7)</small><table border=\"1\" class=\"dataframe\"><thead><tr><th>member_id</th><th>signup_date</th><th>tier</th><th>age_group</th><th>state</th><th>end_to_start_days</th><th>tier_numeric</th></tr><tr><td>str</td><td>date</td><td>str</td><td>str</td><td>str</td><td>i64</td><td>i32</td></tr></thead><tbody><tr><td>&quot;M0001&quot;</td><td>2022-04-13</td><td>&quot;Gold&quot;</td><td>&quot;55+&quot;</td><td>&quot;Sabah&quot;</td><td>627</td><td>2</td></tr><tr><td>&quot;M0002&quot;</td><td>2022-12-15</td><td>&quot;Silver&quot;</td><td>&quot;18-24&quot;</td><td>&quot;Penang&quot;</td><td>381</td><td>1</td></tr><tr><td>&quot;M0003&quot;</td><td>2022-09-28</td><td>&quot;Silver&quot;</td><td>&quot;55+&quot;</td><td>&quot;Kuala Lumpur&quot;</td><td>459</td><td>1</td></tr><tr><td>&quot;M0004&quot;</td><td>2022-04-17</td><td>&quot;Platinum&quot;</td><td>&quot;55+&quot;</td><td>&quot;Johor&quot;</td><td>623</td><td>3</td></tr><tr><td>&quot;M0005&quot;</td><td>2022-03-13</td><td>&quot;Silver&quot;</td><td>&quot;35-44&quot;</td><td>&quot;Penang&quot;</td><td>658</td><td>1</td></tr></tbody></table></div>"
      ],
      "text/plain": [
       "shape: (5, 7)\n",
       "┌───────────┬─────────────┬──────────┬───────────┬──────────────┬───────────────────┬──────────────┐\n",
       "│ member_id ┆ signup_date ┆ tier     ┆ age_group ┆ state        ┆ end_to_start_days ┆ tier_numeric │\n",
       "│ ---       ┆ ---         ┆ ---      ┆ ---       ┆ ---          ┆ ---               ┆ ---          │\n",
       "│ str       ┆ date        ┆ str      ┆ str       ┆ str          ┆ i64               ┆ i32          │\n",
       "╞═══════════╪═════════════╪══════════╪═══════════╪══════════════╪═══════════════════╪══════════════╡\n",
       "│ M0001     ┆ 2022-04-13  ┆ Gold     ┆ 55+       ┆ Sabah        ┆ 627               ┆ 2            │\n",
       "│ M0002     ┆ 2022-12-15  ┆ Silver   ┆ 18-24     ┆ Penang       ┆ 381               ┆ 1            │\n",
       "│ M0003     ┆ 2022-09-28  ┆ Silver   ┆ 55+       ┆ Kuala Lumpur ┆ 459               ┆ 1            │\n",
       "│ M0004     ┆ 2022-04-17  ┆ Platinum ┆ 55+       ┆ Johor        ┆ 623               ┆ 3            │\n",
       "│ M0005     ┆ 2022-03-13  ┆ Silver   ┆ 35-44     ┆ Penang       ┆ 658               ┆ 1            │\n",
       "└───────────┴─────────────┴──────────┴───────────┴──────────────┴───────────────────┴──────────────┘"
      ]
     },
     "execution_count": 241,
     "metadata": {},
     "output_type": "execute_result"
    }
   ],
   "source": [
    "member_features.collect().head()"
   ]
  },
  {
   "cell_type": "code",
   "execution_count": 242,
   "id": "8bb8e04f",
   "metadata": {},
   "outputs": [],
   "source": [
    "engagement_features = engagement_df.with_columns([\n",
    "        (pl.col(\"monthly_logins\") + pl.col(\"redemptions\") + pl.col(\"app_opens\")).alias(\"total_engagement\"),\n",
    "        (pl.col(\"redemptions\") / pl.col(\"monthly_logins\").clip(1)).alias(\"redemption_rate\"),\n",
    "        (pl.col(\"app_opens\") / pl.col(\"monthly_logins\").clip(1)).alias(\"app_opens_per_login\")\n",
    "    ])"
   ]
  },
  {
   "cell_type": "code",
   "execution_count": 243,
   "id": "5b627e2b",
   "metadata": {},
   "outputs": [
    {
     "data": {
      "text/html": [
       "<div><style>\n",
       ".dataframe > thead > tr,\n",
       ".dataframe > tbody > tr {\n",
       "  text-align: right;\n",
       "  white-space: pre-wrap;\n",
       "}\n",
       "</style>\n",
       "<small>shape: (5, 7)</small><table border=\"1\" class=\"dataframe\"><thead><tr><th>member_id</th><th>monthly_logins</th><th>redemptions</th><th>app_opens</th><th>total_engagement</th><th>redemption_rate</th><th>app_opens_per_login</th></tr><tr><td>str</td><td>i64</td><td>i64</td><td>i64</td><td>i64</td><td>f64</td><td>f64</td></tr></thead><tbody><tr><td>&quot;M0001&quot;</td><td>4</td><td>1</td><td>10</td><td>15</td><td>0.25</td><td>2.5</td></tr><tr><td>&quot;M0002&quot;</td><td>4</td><td>1</td><td>7</td><td>12</td><td>0.25</td><td>1.75</td></tr><tr><td>&quot;M0003&quot;</td><td>6</td><td>2</td><td>11</td><td>19</td><td>0.333333</td><td>1.833333</td></tr><tr><td>&quot;M0004&quot;</td><td>3</td><td>1</td><td>16</td><td>20</td><td>0.333333</td><td>5.333333</td></tr><tr><td>&quot;M0005&quot;</td><td>3</td><td>1</td><td>7</td><td>11</td><td>0.333333</td><td>2.333333</td></tr></tbody></table></div>"
      ],
      "text/plain": [
       "shape: (5, 7)\n",
       "┌───────────┬───────────────┬─────────────┬───────────┬──────────────┬──────────────┬──────────────┐\n",
       "│ member_id ┆ monthly_login ┆ redemptions ┆ app_opens ┆ total_engage ┆ redemption_r ┆ app_opens_pe │\n",
       "│ ---       ┆ s             ┆ ---         ┆ ---       ┆ ment         ┆ ate          ┆ r_login      │\n",
       "│ str       ┆ ---           ┆ i64         ┆ i64       ┆ ---          ┆ ---          ┆ ---          │\n",
       "│           ┆ i64           ┆             ┆           ┆ i64          ┆ f64          ┆ f64          │\n",
       "╞═══════════╪═══════════════╪═════════════╪═══════════╪══════════════╪══════════════╪══════════════╡\n",
       "│ M0001     ┆ 4             ┆ 1           ┆ 10        ┆ 15           ┆ 0.25         ┆ 2.5          │\n",
       "│ M0002     ┆ 4             ┆ 1           ┆ 7         ┆ 12           ┆ 0.25         ┆ 1.75         │\n",
       "│ M0003     ┆ 6             ┆ 2           ┆ 11        ┆ 19           ┆ 0.333333     ┆ 1.833333     │\n",
       "│ M0004     ┆ 3             ┆ 1           ┆ 16        ┆ 20           ┆ 0.333333     ┆ 5.333333     │\n",
       "│ M0005     ┆ 3             ┆ 1           ┆ 7         ┆ 11           ┆ 0.333333     ┆ 2.333333     │\n",
       "└───────────┴───────────────┴─────────────┴───────────┴──────────────┴──────────────┴──────────────┘"
      ]
     },
     "execution_count": 243,
     "metadata": {},
     "output_type": "execute_result"
    }
   ],
   "source": [
    "engagement_features.collect().head()"
   ]
  },
  {
   "cell_type": "code",
   "execution_count": 244,
   "id": "b4fb40d7",
   "metadata": {},
   "outputs": [
    {
     "data": {
      "text/plain": [
       "'c:\\\\Github Projects\\\\data-takehome-test_ds\\\\data\\\\checkpoint\\\\member_features.parquet'"
      ]
     },
     "execution_count": 244,
     "metadata": {},
     "output_type": "execute_result"
    }
   ],
   "source": [
    "str(checkpoint_data_path.joinpath(\"member_features.parquet\"))"
   ]
  },
  {
   "cell_type": "markdown",
   "id": "87f47a64",
   "metadata": {},
   "source": [
    "create Checkpoint"
   ]
  },
  {
   "cell_type": "code",
   "execution_count": 245,
   "id": "e7963706",
   "metadata": {},
   "outputs": [
    {
     "name": "stderr",
     "output_type": "stream",
     "text": [
      "2025-06-18 01:25:50,812 - PolarsParquetReader - INFO - Attempting to write to parquet\n",
      "2025-06-18 01:25:50,814 - PolarsParquetReader - INFO - Have Existing Data\n",
      "2025-06-18 01:25:50,817 - PolarsParquetReader - INFO - Performing Write Operations\n",
      "2025-06-18 01:25:50,821 - PolarsParquetReader - INFO - Finished Writing to parquet c:\\Github Projects\\data-takehome-test_ds\\data\\checkpoint\\transaction_features.parquet\n",
      "2025-06-18 01:25:50,821 - PolarsParquetReader - INFO - Attempting to write to parquet\n",
      "2025-06-18 01:25:50,822 - PolarsParquetReader - INFO - Have Existing Data\n",
      "2025-06-18 01:25:50,823 - PolarsParquetReader - INFO - Performing Write Operations\n",
      "2025-06-18 01:25:50,826 - PolarsParquetReader - INFO - Finished Writing to parquet c:\\Github Projects\\data-takehome-test_ds\\data\\checkpoint\\member_features.parquet\n",
      "2025-06-18 01:25:50,828 - PolarsParquetReader - INFO - Attempting to write to parquet\n",
      "2025-06-18 01:25:50,829 - PolarsParquetReader - INFO - Have Existing Data\n",
      "2025-06-18 01:25:50,830 - PolarsParquetReader - INFO - Performing Write Operations\n",
      "2025-06-18 01:25:50,832 - PolarsParquetReader - INFO - Finished Writing to parquet c:\\Github Projects\\data-takehome-test_ds\\data\\checkpoint\\engagement_features.parquet\n"
     ]
    }
   ],
   "source": [
    "pr.write_parquet(transaction_features, str(checkpoint_data_path.joinpath(\"transaction_features.parquet\")))\n",
    "pr.write_parquet(member_features, str(checkpoint_data_path.joinpath(\"member_features.parquet\")))\n",
    "pr.write_parquet(engagement_features, str(checkpoint_data_path.joinpath(\"engagement_features.parquet\")))"
   ]
  },
  {
   "cell_type": "code",
   "execution_count": 246,
   "id": "6258f99a",
   "metadata": {},
   "outputs": [],
   "source": [
    "transaction_features = pr.scan_parquet(str(checkpoint_data_path.joinpath(\"transaction_features.parquet\")))\n",
    "member_features = pr.scan_parquet(str(checkpoint_data_path.joinpath(\"member_features.parquet\")))\n",
    "engagement_features = pr.scan_parquet(str(checkpoint_data_path.joinpath(\"engagement_features.parquet\")))"
   ]
  },
  {
   "cell_type": "code",
   "execution_count": 247,
   "id": "05206564",
   "metadata": {},
   "outputs": [],
   "source": [
    "# Category preferences\n",
    "trans_with_category = transactions_df \\\n",
    "    .join(\n",
    "        merchants_df.select([\"merchant_id\", \"category\"]), \n",
    "        on=\"merchant_id\", \n",
    "        how=\"left\"\n",
    "    ) \\\n",
    "    .with_columns(\n",
    "        (pl.lit(analysis_date.to_date_string()).str.to_date() - pl.col(\"timestamp\")).dt.total_days().alias(\"days_since_transaction\")\n",
    "    )\n",
    "    \n",
    "\n",
    "category_features = trans_with_category \\\n",
    "        .collect() \\\n",
    "        .group_by(\"member_id\", \"category\") \\\n",
    "        .agg(\n",
    "            pl.col(\"spend_amount\").sum().alias(\"category_spend\"),\n",
    "            pl.col(\"transaction_id\").count().alias(\"category_transactions\")\n",
    "        ) \\\n",
    "        .pivot(index=\"member_id\", on=\"category\", values=[\"category_spend\", \"category_transactions\"]) \\\n",
    "        .fill_null(0)"
   ]
  },
  {
   "cell_type": "code",
   "execution_count": 248,
   "id": "eed13d11",
   "metadata": {},
   "outputs": [],
   "source": [
    "churn_labels = transactions_df \\\n",
    "    .group_by(\"member_id\") \\\n",
    "    .agg(\n",
    "        pl.col(\"timestamp\").max().alias(\"last_transaction_date\")\n",
    "    ) \\\n",
    "    .with_columns( # anything less than churn_threshold date means that they did not transact > 3 months since analysis date\n",
    "        (pl.col(\"last_transaction_date\") < churn_threshold_date).alias(\"is_churned\") \n",
    "    )\n"
   ]
  },
  {
   "cell_type": "code",
   "execution_count": 249,
   "id": "a0dfd095",
   "metadata": {},
   "outputs": [
    {
     "name": "stderr",
     "output_type": "stream",
     "text": [
      "2025-06-18 01:25:50,891 - PolarsParquetReader - INFO - Attempting to write to parquet\n",
      "2025-06-18 01:25:50,898 - PolarsParquetReader - INFO - Have Existing Data\n",
      "2025-06-18 01:25:50,901 - PolarsParquetReader - INFO - Performing Write Operations\n",
      "2025-06-18 01:25:50,905 - PolarsParquetReader - INFO - Finished Writing to parquet c:\\Github Projects\\data-takehome-test_ds\\data\\checkpoint\\trans_with_category.parquet\n",
      "2025-06-18 01:25:50,907 - PolarsParquetReader - INFO - Attempting to write to parquet\n",
      "2025-06-18 01:25:50,908 - PolarsParquetReader - INFO - Have Existing Data\n",
      "2025-06-18 01:25:50,909 - PolarsParquetReader - INFO - Schema don't match existing, attempt to adjust to existing\n",
      "2025-06-18 01:25:50,910 - PolarsParquetReader - INFO - Adjusted Schema\n",
      "2025-06-18 01:25:50,910 - PolarsParquetReader - INFO - Performing Write Operations\n",
      "2025-06-18 01:25:50,913 - PolarsParquetReader - INFO - Finished Writing to parquet c:\\Github Projects\\data-takehome-test_ds\\data\\checkpoint\\category_features.parquet\n",
      "2025-06-18 01:25:50,913 - PolarsParquetReader - INFO - Attempting to write to parquet\n",
      "2025-06-18 01:25:50,914 - PolarsParquetReader - INFO - Have Existing Data\n",
      "2025-06-18 01:25:50,917 - PolarsParquetReader - INFO - Performing Write Operations\n",
      "2025-06-18 01:25:50,919 - PolarsParquetReader - INFO - Finished Writing to parquet c:\\Github Projects\\data-takehome-test_ds\\data\\checkpoint\\churn_labels.parquet\n"
     ]
    }
   ],
   "source": [
    "pr.write_parquet(trans_with_category, str(checkpoint_data_path.joinpath(\"trans_with_category.parquet\")))\n",
    "pr.write_parquet(category_features, str(checkpoint_data_path.joinpath(\"category_features.parquet\")))\n",
    "pr.write_parquet(churn_labels, str(checkpoint_data_path.joinpath(\"churn_labels.parquet\")))"
   ]
  },
  {
   "cell_type": "code",
   "execution_count": 250,
   "id": "99f58036",
   "metadata": {},
   "outputs": [],
   "source": [
    "trans_with_category= pr.scan_parquet(str(checkpoint_data_path.joinpath(\"trans_with_category.parquet\")))\n",
    "category_features= pr.scan_parquet(str(checkpoint_data_path.joinpath(\"category_features.parquet\")))\n",
    "churn_labels= pr.scan_parquet(str(checkpoint_data_path.joinpath(\"churn_labels.parquet\")))"
   ]
  },
  {
   "cell_type": "code",
   "execution_count": 251,
   "id": "ae262e9a",
   "metadata": {},
   "outputs": [
    {
     "data": {
      "text/plain": [
       "DateTime(2023, 10, 2, 0, 0, 0, tzinfo=Timezone('UTC'))"
      ]
     },
     "execution_count": 251,
     "metadata": {},
     "output_type": "execute_result"
    }
   ],
   "source": [
    "churn_threshold_date"
   ]
  },
  {
   "cell_type": "code",
   "execution_count": 252,
   "id": "991f0667",
   "metadata": {},
   "outputs": [
    {
     "data": {
      "text/html": [
       "<div><style>\n",
       ".dataframe > thead > tr,\n",
       ".dataframe > tbody > tr {\n",
       "  text-align: right;\n",
       "  white-space: pre-wrap;\n",
       "}\n",
       "</style>\n",
       "<small>shape: (5, 3)</small><table border=\"1\" class=\"dataframe\"><thead><tr><th>member_id</th><th>last_transaction_date</th><th>is_churned</th></tr><tr><td>str</td><td>date</td><td>bool</td></tr></thead><tbody><tr><td>&quot;M0491&quot;</td><td>2023-12-22</td><td>false</td></tr><tr><td>&quot;M0386&quot;</td><td>2023-12-17</td><td>false</td></tr><tr><td>&quot;M0184&quot;</td><td>2023-12-08</td><td>false</td></tr><tr><td>&quot;M0326&quot;</td><td>2023-10-28</td><td>false</td></tr><tr><td>&quot;M0434&quot;</td><td>2023-12-05</td><td>false</td></tr></tbody></table></div>"
      ],
      "text/plain": [
       "shape: (5, 3)\n",
       "┌───────────┬───────────────────────┬────────────┐\n",
       "│ member_id ┆ last_transaction_date ┆ is_churned │\n",
       "│ ---       ┆ ---                   ┆ ---        │\n",
       "│ str       ┆ date                  ┆ bool       │\n",
       "╞═══════════╪═══════════════════════╪════════════╡\n",
       "│ M0491     ┆ 2023-12-22            ┆ false      │\n",
       "│ M0386     ┆ 2023-12-17            ┆ false      │\n",
       "│ M0184     ┆ 2023-12-08            ┆ false      │\n",
       "│ M0326     ┆ 2023-10-28            ┆ false      │\n",
       "│ M0434     ┆ 2023-12-05            ┆ false      │\n",
       "└───────────┴───────────────────────┴────────────┘"
      ]
     },
     "execution_count": 252,
     "metadata": {},
     "output_type": "execute_result"
    }
   ],
   "source": [
    "churn_labels.collect().head()"
   ]
  },
  {
   "cell_type": "code",
   "execution_count": 253,
   "id": "61e8d650",
   "metadata": {},
   "outputs": [
    {
     "data": {
      "text/html": [
       "<div><style>\n",
       ".dataframe > thead > tr,\n",
       ".dataframe > tbody > tr {\n",
       "  text-align: right;\n",
       "  white-space: pre-wrap;\n",
       "}\n",
       "</style>\n",
       "<small>shape: (5, 3)</small><table border=\"1\" class=\"dataframe\"><thead><tr><th>member_id</th><th>last_transaction_date</th><th>is_churned</th></tr><tr><td>str</td><td>date</td><td>bool</td></tr></thead><tbody><tr><td>&quot;M0196&quot;</td><td>2023-07-08</td><td>true</td></tr><tr><td>&quot;M0319&quot;</td><td>2023-06-01</td><td>true</td></tr><tr><td>&quot;M0167&quot;</td><td>2023-06-11</td><td>true</td></tr><tr><td>&quot;M0465&quot;</td><td>2023-06-12</td><td>true</td></tr><tr><td>&quot;M0303&quot;</td><td>2023-09-10</td><td>true</td></tr></tbody></table></div>"
      ],
      "text/plain": [
       "shape: (5, 3)\n",
       "┌───────────┬───────────────────────┬────────────┐\n",
       "│ member_id ┆ last_transaction_date ┆ is_churned │\n",
       "│ ---       ┆ ---                   ┆ ---        │\n",
       "│ str       ┆ date                  ┆ bool       │\n",
       "╞═══════════╪═══════════════════════╪════════════╡\n",
       "│ M0196     ┆ 2023-07-08            ┆ true       │\n",
       "│ M0319     ┆ 2023-06-01            ┆ true       │\n",
       "│ M0167     ┆ 2023-06-11            ┆ true       │\n",
       "│ M0465     ┆ 2023-06-12            ┆ true       │\n",
       "│ M0303     ┆ 2023-09-10            ┆ true       │\n",
       "└───────────┴───────────────────────┴────────────┘"
      ]
     },
     "execution_count": 253,
     "metadata": {},
     "output_type": "execute_result"
    }
   ],
   "source": [
    "churn_labels \\\n",
    "    .filter(\n",
    "        pl.col(\"is_churned\") == True\n",
    "    ) \\\n",
    "    .collect().head()"
   ]
  },
  {
   "cell_type": "code",
   "execution_count": 254,
   "id": "8926724c",
   "metadata": {},
   "outputs": [
    {
     "data": {
      "text/plain": [
       "(112, 3)"
      ]
     },
     "execution_count": 254,
     "metadata": {},
     "output_type": "execute_result"
    }
   ],
   "source": [
    "churn_labels \\\n",
    "    .filter(\n",
    "        pl.col(\"is_churned\") == True\n",
    "    ) \\\n",
    "    .collect().shape"
   ]
  },
  {
   "cell_type": "code",
   "execution_count": 255,
   "id": "1d081422",
   "metadata": {},
   "outputs": [],
   "source": [
    "final_dataset = member_features \\\n",
    "    .join(\n",
    "        transaction_features,\n",
    "        on = \"member_id\",\n",
    "        how = \"left\"\n",
    "    ) \\\n",
    "    .join(\n",
    "        engagement_features,\n",
    "        on = \"member_id\",\n",
    "        how = \"left\"\n",
    "    ) \\\n",
    "    .join(\n",
    "        category_features,\n",
    "        on = \"member_id\",\n",
    "        how = \"left\"\n",
    "    ) \\\n",
    "    .join(\n",
    "        churn_labels,\n",
    "        on = \"member_id\",\n",
    "        how = \"left\"\n",
    "    ) \\\n",
    "    .fill_null(0)"
   ]
  },
  {
   "cell_type": "code",
   "execution_count": 256,
   "id": "a9d604bf",
   "metadata": {},
   "outputs": [
    {
     "data": {
      "text/html": [
       "<div><style>\n",
       ".dataframe > thead > tr,\n",
       ".dataframe > tbody > tr {\n",
       "  text-align: right;\n",
       "  white-space: pre-wrap;\n",
       "}\n",
       "</style>\n",
       "<small>shape: (5, 35)</small><table border=\"1\" class=\"dataframe\"><thead><tr><th>member_id</th><th>signup_date</th><th>tier</th><th>age_group</th><th>state</th><th>end_to_start_days</th><th>tier_numeric</th><th>days_since_last_transaction</th><th>days_since_first_transaction</th><th>total_transactions</th><th>unique_transaction_days</th><th>total_spend</th><th>avg_spend_per_transaction</th><th>spend_std</th><th>max_spend</th><th>min_spend</th><th>unique_merchants</th><th>spend_last_30d</th><th>transactions_last_30d</th><th>monthly_logins</th><th>redemptions</th><th>app_opens</th><th>total_engagement</th><th>redemption_rate</th><th>app_opens_per_login</th><th>category_spend_F&amp;B</th><th>category_spend_Retail</th><th>category_spend_eCommerce</th><th>category_spend_Travel</th><th>category_transactions_F&amp;B</th><th>category_transactions_Retail</th><th>category_transactions_eCommerce</th><th>category_transactions_Travel</th><th>last_transaction_date</th><th>is_churned</th></tr><tr><td>str</td><td>date</td><td>str</td><td>str</td><td>str</td><td>i64</td><td>i32</td><td>i64</td><td>i64</td><td>u32</td><td>u32</td><td>f64</td><td>f64</td><td>f64</td><td>f64</td><td>f64</td><td>u32</td><td>f64</td><td>u32</td><td>i64</td><td>i64</td><td>i64</td><td>i64</td><td>f64</td><td>f64</td><td>f64</td><td>f64</td><td>f64</td><td>f64</td><td>u32</td><td>u32</td><td>u32</td><td>u32</td><td>date</td><td>bool</td></tr></thead><tbody><tr><td>&quot;M0001&quot;</td><td>2022-04-13</td><td>&quot;Gold&quot;</td><td>&quot;55+&quot;</td><td>&quot;Sabah&quot;</td><td>627</td><td>2</td><td>117</td><td>265</td><td>9</td><td>8</td><td>404.74</td><td>44.971111</td><td>38.167539</td><td>131.01</td><td>5.63</td><td>7</td><td>0.0</td><td>0</td><td>4</td><td>1</td><td>10</td><td>15</td><td>0.25</td><td>2.5</td><td>52.27</td><td>289.33</td><td>63.14</td><td>0.0</td><td>2</td><td>5</td><td>2</td><td>0</td><td>2023-09-05</td><td>true</td></tr><tr><td>&quot;M0002&quot;</td><td>2022-12-15</td><td>&quot;Silver&quot;</td><td>&quot;18-24&quot;</td><td>&quot;Penang&quot;</td><td>381</td><td>1</td><td>29</td><td>317</td><td>3</td><td>3</td><td>173.39</td><td>57.796667</td><td>41.606288</td><td>100.15</td><td>16.98</td><td>3</td><td>56.26</td><td>1</td><td>4</td><td>1</td><td>7</td><td>12</td><td>0.25</td><td>1.75</td><td>100.15</td><td>56.26</td><td>16.98</td><td>0.0</td><td>1</td><td>1</td><td>1</td><td>0</td><td>2023-12-02</td><td>false</td></tr><tr><td>&quot;M0003&quot;</td><td>2022-09-28</td><td>&quot;Silver&quot;</td><td>&quot;55+&quot;</td><td>&quot;Kuala Lumpur&quot;</td><td>459</td><td>1</td><td>227</td><td>354</td><td>3</td><td>3</td><td>153.91</td><td>51.303333</td><td>57.267416</td><td>117.37</td><td>15.83</td><td>3</td><td>0.0</td><td>0</td><td>6</td><td>2</td><td>11</td><td>19</td><td>0.333333</td><td>1.833333</td><td>36.54</td><td>0.0</td><td>117.37</td><td>0.0</td><td>2</td><td>0</td><td>1</td><td>0</td><td>2023-05-18</td><td>true</td></tr><tr><td>&quot;M0004&quot;</td><td>2022-04-17</td><td>&quot;Platinum&quot;</td><td>&quot;55+&quot;</td><td>&quot;Johor&quot;</td><td>623</td><td>3</td><td>44</td><td>199</td><td>6</td><td>6</td><td>185.18</td><td>30.863333</td><td>18.552466</td><td>58.4</td><td>13.73</td><td>6</td><td>0.0</td><td>0</td><td>3</td><td>1</td><td>16</td><td>20</td><td>0.333333</td><td>5.333333</td><td>25.47</td><td>144.96</td><td>14.75</td><td>0.0</td><td>1</td><td>4</td><td>1</td><td>0</td><td>2023-11-17</td><td>false</td></tr><tr><td>&quot;M0005&quot;</td><td>2022-03-13</td><td>&quot;Silver&quot;</td><td>&quot;35-44&quot;</td><td>&quot;Penang&quot;</td><td>658</td><td>1</td><td>28</td><td>309</td><td>5</td><td>5</td><td>460.72</td><td>92.144</td><td>131.147504</td><td>318.2</td><td>1.84</td><td>5</td><td>1.84</td><td>1</td><td>3</td><td>1</td><td>7</td><td>11</td><td>0.333333</td><td>2.333333</td><td>372.89</td><td>85.99</td><td>1.84</td><td>0.0</td><td>3</td><td>1</td><td>1</td><td>0</td><td>2023-12-03</td><td>false</td></tr></tbody></table></div>"
      ],
      "text/plain": [
       "shape: (5, 35)\n",
       "┌─────┬─────┬─────┬─────┬─────┬─────┬─────┬─────┬─────┬─────┬─────┬─────┬─────┬─────┬─────┬─────┬─────┬─────┬─────┬─────┬─────┬─────┬─────┬─────┬─────┬─────┬─────┬─────┬─────┬─────┬─────┬─────┬─────┬─────┬─────┐\n",
       "│ mem ┆ sig ┆ tie ┆ age ┆ sta ┆ end ┆ tie ┆ day ┆ day ┆ tot ┆ uni ┆ tot ┆ avg ┆ spe ┆ max ┆ min ┆ uni ┆ spe ┆ tra ┆ mon ┆ red ┆ app ┆ tot ┆ red ┆ app ┆ cat ┆ cat ┆ cat ┆ cat ┆ cat ┆ cat ┆ cat ┆ cat ┆ las ┆ is_ │\n",
       "│ ber ┆ nup ┆ r   ┆ _gr ┆ te  ┆ _to ┆ r_n ┆ s_s ┆ s_s ┆ al_ ┆ que ┆ al_ ┆ _sp ┆ nd_ ┆ _sp ┆ _sp ┆ que ┆ nd_ ┆ nsa ┆ thl ┆ emp ┆ _op ┆ al_ ┆ emp ┆ _op ┆ ego ┆ ego ┆ ego ┆ ego ┆ ego ┆ ego ┆ ego ┆ ego ┆ t_t ┆ chu │\n",
       "│ _id ┆ _da ┆ --- ┆ oup ┆ --- ┆ _st ┆ ume ┆ inc ┆ inc ┆ tra ┆ _tr ┆ spe ┆ end ┆ std ┆ end ┆ end ┆ _me ┆ las ┆ cti ┆ y_l ┆ tio ┆ ens ┆ eng ┆ tio ┆ ens ┆ ry_ ┆ ry_ ┆ ry_ ┆ ry_ ┆ ry_ ┆ ry_ ┆ ry_ ┆ ry_ ┆ ran ┆ rne │\n",
       "│ --- ┆ te  ┆ str ┆ --- ┆ str ┆ art ┆ ric ┆ e_l ┆ e_f ┆ nsa ┆ ans ┆ nd  ┆ _pe ┆ --- ┆ --- ┆ --- ┆ rch ┆ t_3 ┆ ons ┆ ogi ┆ ns  ┆ --- ┆ age ┆ n_r ┆ _pe ┆ spe ┆ spe ┆ spe ┆ spe ┆ tra ┆ tra ┆ tra ┆ tra ┆ sac ┆ d   │\n",
       "│ str ┆ --- ┆     ┆ str ┆     ┆ _da ┆ --- ┆ ast ┆ irs ┆ cti ┆ act ┆ --- ┆ r_t ┆ f64 ┆ f64 ┆ f64 ┆ ant ┆ 0d  ┆ _la ┆ ns  ┆ --- ┆ i64 ┆ men ┆ ate ┆ r_l ┆ nd_ ┆ nd_ ┆ nd_ ┆ nd_ ┆ nsa ┆ nsa ┆ nsa ┆ nsa ┆ tio ┆ --- │\n",
       "│     ┆ dat ┆     ┆     ┆     ┆ ys  ┆ i32 ┆ _tr ┆ t_t ┆ ons ┆ ion ┆ f64 ┆ ran ┆     ┆     ┆     ┆ s   ┆ --- ┆ st_ ┆ --- ┆ i64 ┆     ┆ t   ┆ --- ┆ ogi ┆ F&B ┆ Ret ┆ eCo ┆ Tra ┆ cti ┆ cti ┆ cti ┆ cti ┆ n_d ┆ boo │\n",
       "│     ┆ e   ┆     ┆     ┆     ┆ --- ┆     ┆ ans ┆ ran ┆ --- ┆ _da ┆     ┆ sac ┆     ┆     ┆     ┆ --- ┆ f64 ┆ 30d ┆ i64 ┆     ┆     ┆ --- ┆ f64 ┆ n   ┆ --- ┆ ail ┆ mme ┆ vel ┆ ons ┆ ons ┆ ons ┆ ons ┆ ate ┆ l   │\n",
       "│     ┆     ┆     ┆     ┆     ┆ i64 ┆     ┆ act ┆ sac ┆ u32 ┆ ys  ┆     ┆ tio ┆     ┆     ┆     ┆ u32 ┆     ┆ --- ┆     ┆     ┆     ┆ i64 ┆     ┆ --- ┆ f64 ┆ --- ┆ rce ┆ --- ┆ _F& ┆ _Re ┆ _eC ┆ _Tr ┆ --- ┆     │\n",
       "│     ┆     ┆     ┆     ┆     ┆     ┆     ┆ ion ┆ tio ┆     ┆ --- ┆     ┆ n   ┆     ┆     ┆     ┆     ┆     ┆ u32 ┆     ┆     ┆     ┆     ┆     ┆ f64 ┆     ┆ f64 ┆ --- ┆ f64 ┆ B   ┆ tai ┆ omm ┆ ave ┆ dat ┆     │\n",
       "│     ┆     ┆     ┆     ┆     ┆     ┆     ┆ --- ┆ n   ┆     ┆ u32 ┆     ┆ --- ┆     ┆     ┆     ┆     ┆     ┆     ┆     ┆     ┆     ┆     ┆     ┆     ┆     ┆     ┆ f64 ┆     ┆ --- ┆ l   ┆ erc ┆ l   ┆ e   ┆     │\n",
       "│     ┆     ┆     ┆     ┆     ┆     ┆     ┆ i64 ┆ --- ┆     ┆     ┆     ┆ f64 ┆     ┆     ┆     ┆     ┆     ┆     ┆     ┆     ┆     ┆     ┆     ┆     ┆     ┆     ┆     ┆     ┆ u32 ┆ --- ┆ …   ┆ --- ┆     ┆     │\n",
       "│     ┆     ┆     ┆     ┆     ┆     ┆     ┆     ┆ i64 ┆     ┆     ┆     ┆     ┆     ┆     ┆     ┆     ┆     ┆     ┆     ┆     ┆     ┆     ┆     ┆     ┆     ┆     ┆     ┆     ┆     ┆ u32 ┆ --- ┆ u32 ┆     ┆     │\n",
       "│     ┆     ┆     ┆     ┆     ┆     ┆     ┆     ┆     ┆     ┆     ┆     ┆     ┆     ┆     ┆     ┆     ┆     ┆     ┆     ┆     ┆     ┆     ┆     ┆     ┆     ┆     ┆     ┆     ┆     ┆     ┆ u32 ┆     ┆     ┆     │\n",
       "╞═════╪═════╪═════╪═════╪═════╪═════╪═════╪═════╪═════╪═════╪═════╪═════╪═════╪═════╪═════╪═════╪═════╪═════╪═════╪═════╪═════╪═════╪═════╪═════╪═════╪═════╪═════╪═════╪═════╪═════╪═════╪═════╪═════╪═════╪═════╡\n",
       "│ M00 ┆ 202 ┆ Gol ┆ 55+ ┆ Sab ┆ 627 ┆ 2   ┆ 117 ┆ 265 ┆ 9   ┆ 8   ┆ 404 ┆ 44. ┆ 38. ┆ 131 ┆ 5.6 ┆ 7   ┆ 0.0 ┆ 0   ┆ 4   ┆ 1   ┆ 10  ┆ 15  ┆ 0.2 ┆ 2.5 ┆ 52. ┆ 289 ┆ 63. ┆ 0.0 ┆ 2   ┆ 5   ┆ 2   ┆ 0   ┆ 202 ┆ tru │\n",
       "│ 01  ┆ 2-0 ┆ d   ┆     ┆ ah  ┆     ┆     ┆     ┆     ┆     ┆     ┆ .74 ┆ 971 ┆ 167 ┆ .01 ┆ 3   ┆     ┆     ┆     ┆     ┆     ┆     ┆     ┆ 5   ┆     ┆ 27  ┆ .33 ┆ 14  ┆     ┆     ┆     ┆     ┆     ┆ 3-0 ┆ e   │\n",
       "│     ┆ 4-1 ┆     ┆     ┆     ┆     ┆     ┆     ┆     ┆     ┆     ┆     ┆ 111 ┆ 539 ┆     ┆     ┆     ┆     ┆     ┆     ┆     ┆     ┆     ┆     ┆     ┆     ┆     ┆     ┆     ┆     ┆     ┆     ┆     ┆ 9-0 ┆     │\n",
       "│     ┆ 3   ┆     ┆     ┆     ┆     ┆     ┆     ┆     ┆     ┆     ┆     ┆     ┆     ┆     ┆     ┆     ┆     ┆     ┆     ┆     ┆     ┆     ┆     ┆     ┆     ┆     ┆     ┆     ┆     ┆     ┆     ┆     ┆ 5   ┆     │\n",
       "│ M00 ┆ 202 ┆ Sil ┆ 18- ┆ Pen ┆ 381 ┆ 1   ┆ 29  ┆ 317 ┆ 3   ┆ 3   ┆ 173 ┆ 57. ┆ 41. ┆ 100 ┆ 16. ┆ 3   ┆ 56. ┆ 1   ┆ 4   ┆ 1   ┆ 7   ┆ 12  ┆ 0.2 ┆ 1.7 ┆ 100 ┆ 56. ┆ 16. ┆ 0.0 ┆ 1   ┆ 1   ┆ 1   ┆ 0   ┆ 202 ┆ fal │\n",
       "│ 02  ┆ 2-1 ┆ ver ┆ 24  ┆ ang ┆     ┆     ┆     ┆     ┆     ┆     ┆ .39 ┆ 796 ┆ 606 ┆ .15 ┆ 98  ┆     ┆ 26  ┆     ┆     ┆     ┆     ┆     ┆ 5   ┆ 5   ┆ .15 ┆ 26  ┆ 98  ┆     ┆     ┆     ┆     ┆     ┆ 3-1 ┆ se  │\n",
       "│     ┆ 2-1 ┆     ┆     ┆     ┆     ┆     ┆     ┆     ┆     ┆     ┆     ┆ 667 ┆ 288 ┆     ┆     ┆     ┆     ┆     ┆     ┆     ┆     ┆     ┆     ┆     ┆     ┆     ┆     ┆     ┆     ┆     ┆     ┆     ┆ 2-0 ┆     │\n",
       "│     ┆ 5   ┆     ┆     ┆     ┆     ┆     ┆     ┆     ┆     ┆     ┆     ┆     ┆     ┆     ┆     ┆     ┆     ┆     ┆     ┆     ┆     ┆     ┆     ┆     ┆     ┆     ┆     ┆     ┆     ┆     ┆     ┆     ┆ 2   ┆     │\n",
       "│ M00 ┆ 202 ┆ Sil ┆ 55+ ┆ Kua ┆ 459 ┆ 1   ┆ 227 ┆ 354 ┆ 3   ┆ 3   ┆ 153 ┆ 51. ┆ 57. ┆ 117 ┆ 15. ┆ 3   ┆ 0.0 ┆ 0   ┆ 6   ┆ 2   ┆ 11  ┆ 19  ┆ 0.3 ┆ 1.8 ┆ 36. ┆ 0.0 ┆ 117 ┆ 0.0 ┆ 2   ┆ 0   ┆ 1   ┆ 0   ┆ 202 ┆ tru │\n",
       "│ 03  ┆ 2-0 ┆ ver ┆     ┆ la  ┆     ┆     ┆     ┆     ┆     ┆     ┆ .91 ┆ 303 ┆ 267 ┆ .37 ┆ 83  ┆     ┆     ┆     ┆     ┆     ┆     ┆     ┆ 333 ┆ 333 ┆ 54  ┆     ┆ .37 ┆     ┆     ┆     ┆     ┆     ┆ 3-0 ┆ e   │\n",
       "│     ┆ 9-2 ┆     ┆     ┆ Lum ┆     ┆     ┆     ┆     ┆     ┆     ┆     ┆ 333 ┆ 416 ┆     ┆     ┆     ┆     ┆     ┆     ┆     ┆     ┆     ┆ 33  ┆ 33  ┆     ┆     ┆     ┆     ┆     ┆     ┆     ┆     ┆ 5-1 ┆     │\n",
       "│     ┆ 8   ┆     ┆     ┆ pur ┆     ┆     ┆     ┆     ┆     ┆     ┆     ┆     ┆     ┆     ┆     ┆     ┆     ┆     ┆     ┆     ┆     ┆     ┆     ┆     ┆     ┆     ┆     ┆     ┆     ┆     ┆     ┆     ┆ 8   ┆     │\n",
       "│ M00 ┆ 202 ┆ Pla ┆ 55+ ┆ Joh ┆ 623 ┆ 3   ┆ 44  ┆ 199 ┆ 6   ┆ 6   ┆ 185 ┆ 30. ┆ 18. ┆ 58. ┆ 13. ┆ 6   ┆ 0.0 ┆ 0   ┆ 3   ┆ 1   ┆ 16  ┆ 20  ┆ 0.3 ┆ 5.3 ┆ 25. ┆ 144 ┆ 14. ┆ 0.0 ┆ 1   ┆ 4   ┆ 1   ┆ 0   ┆ 202 ┆ fal │\n",
       "│ 04  ┆ 2-0 ┆ tin ┆     ┆ or  ┆     ┆     ┆     ┆     ┆     ┆     ┆ .18 ┆ 863 ┆ 552 ┆ 4   ┆ 73  ┆     ┆     ┆     ┆     ┆     ┆     ┆     ┆ 333 ┆ 333 ┆ 47  ┆ .96 ┆ 75  ┆     ┆     ┆     ┆     ┆     ┆ 3-1 ┆ se  │\n",
       "│     ┆ 4-1 ┆ um  ┆     ┆     ┆     ┆     ┆     ┆     ┆     ┆     ┆     ┆ 333 ┆ 466 ┆     ┆     ┆     ┆     ┆     ┆     ┆     ┆     ┆     ┆ 33  ┆ 33  ┆     ┆     ┆     ┆     ┆     ┆     ┆     ┆     ┆ 1-1 ┆     │\n",
       "│     ┆ 7   ┆     ┆     ┆     ┆     ┆     ┆     ┆     ┆     ┆     ┆     ┆     ┆     ┆     ┆     ┆     ┆     ┆     ┆     ┆     ┆     ┆     ┆     ┆     ┆     ┆     ┆     ┆     ┆     ┆     ┆     ┆     ┆ 7   ┆     │\n",
       "│ M00 ┆ 202 ┆ Sil ┆ 35- ┆ Pen ┆ 658 ┆ 1   ┆ 28  ┆ 309 ┆ 5   ┆ 5   ┆ 460 ┆ 92. ┆ 131 ┆ 318 ┆ 1.8 ┆ 5   ┆ 1.8 ┆ 1   ┆ 3   ┆ 1   ┆ 7   ┆ 11  ┆ 0.3 ┆ 2.3 ┆ 372 ┆ 85. ┆ 1.8 ┆ 0.0 ┆ 3   ┆ 1   ┆ 1   ┆ 0   ┆ 202 ┆ fal │\n",
       "│ 05  ┆ 2-0 ┆ ver ┆ 44  ┆ ang ┆     ┆     ┆     ┆     ┆     ┆     ┆ .72 ┆ 144 ┆ .14 ┆ .2  ┆ 4   ┆     ┆ 4   ┆     ┆     ┆     ┆     ┆     ┆ 333 ┆ 333 ┆ .89 ┆ 99  ┆ 4   ┆     ┆     ┆     ┆     ┆     ┆ 3-1 ┆ se  │\n",
       "│     ┆ 3-1 ┆     ┆     ┆     ┆     ┆     ┆     ┆     ┆     ┆     ┆     ┆     ┆ 750 ┆     ┆     ┆     ┆     ┆     ┆     ┆     ┆     ┆     ┆ 33  ┆ 33  ┆     ┆     ┆     ┆     ┆     ┆     ┆     ┆     ┆ 2-0 ┆     │\n",
       "│     ┆ 3   ┆     ┆     ┆     ┆     ┆     ┆     ┆     ┆     ┆     ┆     ┆     ┆ 4   ┆     ┆     ┆     ┆     ┆     ┆     ┆     ┆     ┆     ┆     ┆     ┆     ┆     ┆     ┆     ┆     ┆     ┆     ┆     ┆ 3   ┆     │\n",
       "└─────┴─────┴─────┴─────┴─────┴─────┴─────┴─────┴─────┴─────┴─────┴─────┴─────┴─────┴─────┴─────┴─────┴─────┴─────┴─────┴─────┴─────┴─────┴─────┴─────┴─────┴─────┴─────┴─────┴─────┴─────┴─────┴─────┴─────┴─────┘"
      ]
     },
     "execution_count": 256,
     "metadata": {},
     "output_type": "execute_result"
    }
   ],
   "source": [
    "final_dataset.collect().head()"
   ]
  },
  {
   "cell_type": "code",
   "execution_count": 257,
   "id": "652c0dfb",
   "metadata": {},
   "outputs": [
    {
     "name": "stderr",
     "output_type": "stream",
     "text": [
      "2025-06-18 01:25:51,062 - PolarsParquetReader - INFO - Attempting to write to parquet\n",
      "2025-06-18 01:25:51,065 - PolarsParquetReader - INFO - Have Existing Data\n",
      "2025-06-18 01:25:51,065 - PolarsParquetReader - INFO - Schema don't match existing, attempt to adjust to existing\n",
      "2025-06-18 01:25:51,067 - PolarsParquetReader - INFO - Adjusted Schema\n",
      "2025-06-18 01:25:51,069 - PolarsParquetReader - INFO - Performing Write Operations\n",
      "2025-06-18 01:25:51,077 - PolarsParquetReader - INFO - Finished Writing to parquet c:\\Github Projects\\data-takehome-test_ds\\data\\checkpoint\\final_dataset.parquet\n"
     ]
    }
   ],
   "source": [
    "pr.write_parquet(final_dataset, str(checkpoint_data_path.joinpath(\"final_dataset.parquet\")))"
   ]
  },
  {
   "cell_type": "code",
   "execution_count": 258,
   "id": "1b4cca8e",
   "metadata": {},
   "outputs": [],
   "source": [
    "final_dataset = pr.scan_parquet(str(checkpoint_data_path.joinpath(\"final_dataset.parquet\")))"
   ]
  },
  {
   "cell_type": "markdown",
   "id": "6a01164d",
   "metadata": {},
   "source": [
    "# Modelling"
   ]
  },
  {
   "cell_type": "markdown",
   "id": "5d36a2a4",
   "metadata": {},
   "source": [
    "Why Logistic & Random Forest?\n",
    "- Logistic Regression was used for its simplicity and explainability—it gives us direct insights into how each feature impacts churn likelihood.\n",
    "- Random Forest was chosen for its stronger predictive power and ability to capture complex patterns, while still offering interpretability through feature importance."
   ]
  },
  {
   "cell_type": "code",
   "execution_count": 259,
   "id": "1c49d493",
   "metadata": {},
   "outputs": [],
   "source": [
    "from sklearn.model_selection import train_test_split\n",
    "from sklearn.ensemble import RandomForestClassifier\n",
    "from sklearn.linear_model import LogisticRegression\n",
    "from sklearn.metrics import roc_auc_score\n",
    "from sklearn.preprocessing import StandardScaler, LabelEncoder\n",
    "import numpy as np\n",
    "\n",
    "def build_and_evaluate_models(dataset):\n",
    "    print(\"MODEL BUILDING AND EVALUATION\")\n",
    "    \n",
    "    # Convert to pandas as easier to use sklearn with it\n",
    "    df = dataset.to_pandas()\n",
    "    \n",
    "    # Exclude non-predictive columns\n",
    "    exclude_cols = ['member_id', 'signup_date', 'is_churned', 'last_transaction_date']\n",
    "    \n",
    "    # Handle categorical variables\n",
    "    categorical_cols = ['tier', 'age_group', 'state']\n",
    "    le_dict = {}\n",
    "    \n",
    "    for col in categorical_cols:\n",
    "        if col in df.columns:\n",
    "            le = LabelEncoder()\n",
    "            df[col] = le.fit_transform(df[col].astype(str))\n",
    "            le_dict[col] = le\n",
    "    \n",
    "    # Select features columsn in the database\n",
    "    feature_cols = [col for col in df.columns if col not in exclude_cols]\n",
    "    x = df[feature_cols].fillna(0)\n",
    "    y = df['is_churned'].fillna(0).astype(int)\n",
    "    \n",
    "    print(f\"Features selected: {len(feature_cols)}\")\n",
    "    print(feature_cols)\n",
    "    print(f\"Samples: {len(x)}, Churn rate: {y.mean():.2%}\")\n",
    "    \n",
    "    # Split data\n",
    "    X_train, X_test, y_train, y_test = train_test_split(\n",
    "        x, y, test_size=0.2, random_state=42, stratify=y\n",
    "    )\n",
    "    \n",
    "    # Scale features\n",
    "    scaler = StandardScaler()\n",
    "    x_train_scaled = scaler.fit_transform(X_train)\n",
    "    x_test_scaled = scaler.transform(X_test)\n",
    "    \n",
    "    models = {}\n",
    "    results = {}\n",
    "    \n",
    "    print(\"Training Logistic Regression...\")\n",
    "    lr_model = LogisticRegression(random_state=42, class_weight='balanced')\n",
    "    lr_model.fit(x_train_scaled, y_train)\n",
    "    \n",
    "    lr_pred_proba = lr_model.predict_proba(x_test_scaled)[:, 1]\n",
    "    lr_auc = roc_auc_score(y_test, lr_pred_proba)\n",
    "    \n",
    "    models['Logistic Regression'] = lr_model\n",
    "    results['Logistic Regression'] = {\n",
    "        'auc': lr_auc,\n",
    "        'predictions': lr_pred_proba,\n",
    "        'feature_importance': np.abs(lr_model.coef_[0])\n",
    "    }\n",
    "    \n",
    "    print(f\"Logistic Regression AUC: {lr_auc:.3f}\")\n",
    "    \n",
    "    print(\"Training Random Forest...\")\n",
    "    rf_model = RandomForestClassifier(\n",
    "        n_estimators=100, \n",
    "        random_state=42, \n",
    "        class_weight='balanced',\n",
    "        max_depth=10\n",
    "    )\n",
    "    rf_model.fit(X_train, y_train)\n",
    "    \n",
    "    rf_pred_proba = rf_model.predict_proba(X_test)[:, 1]\n",
    "    rf_auc = roc_auc_score(y_test, rf_pred_proba)\n",
    "    \n",
    "    models['Random Forest'] = rf_model\n",
    "    results['Random Forest'] = {\n",
    "        'auc': rf_auc,\n",
    "        'predictions': rf_pred_proba,\n",
    "        'feature_importance': rf_model.feature_importances_\n",
    "    }\n",
    "    \n",
    "    print(f\"Random Forest AUC: {rf_auc:.3f}\")\n",
    "    \n",
    "    # figure out which one is the best model\n",
    "    best_model_name = max(results, key=lambda x: results[x]['auc'])\n",
    "    best_model = models[best_model_name]\n",
    "    best_results = results[best_model_name]\n",
    "    \n",
    "    print(f\"Best Model: {best_model_name} (AUC: {best_results['auc']:.3f})\")\n",
    "\n",
    "    # TODO: Should incorporate precision-recall calculation here and the actual correlation matrix \n",
    "    # but yeah, it's 2 am in the morning\n",
    "    \n",
    "    return {\n",
    "        'models': models,\n",
    "        'results': results,\n",
    "        'best_model': best_model,\n",
    "        'best_model_name': best_model_name,\n",
    "        'feature_names': feature_cols,\n",
    "        'X_test': X_test,\n",
    "        'y_test': y_test,\n",
    "        'scaler': scaler\n",
    "    }"
   ]
  },
  {
   "cell_type": "code",
   "execution_count": 260,
   "id": "a859477b",
   "metadata": {},
   "outputs": [
    {
     "data": {
      "text/plain": [
       "(500, 35)"
      ]
     },
     "execution_count": 260,
     "metadata": {},
     "output_type": "execute_result"
    }
   ],
   "source": [
    "final_dataset.collect().shape"
   ]
  },
  {
   "cell_type": "code",
   "execution_count": 261,
   "id": "ef9189da",
   "metadata": {},
   "outputs": [
    {
     "name": "stdout",
     "output_type": "stream",
     "text": [
      "MODEL BUILDING AND EVALUATION\n",
      "Features selected: 31\n",
      "['tier', 'age_group', 'state', 'end_to_start_days', 'tier_numeric', 'days_since_last_transaction', 'days_since_first_transaction', 'total_transactions', 'unique_transaction_days', 'total_spend', 'avg_spend_per_transaction', 'spend_std', 'max_spend', 'min_spend', 'unique_merchants', 'spend_last_30d', 'transactions_last_30d', 'monthly_logins', 'redemptions', 'app_opens', 'total_engagement', 'redemption_rate', 'app_opens_per_login', 'category_spend_F&B', 'category_spend_Retail', 'category_spend_eCommerce', 'category_spend_Travel', 'category_transactions_F&B', 'category_transactions_Retail', 'category_transactions_eCommerce', 'category_transactions_Travel']\n",
      "Samples: 500, Churn rate: 22.40%\n",
      "Training Logistic Regression...\n",
      "Logistic Regression AUC: 0.995\n",
      "Training Random Forest...\n",
      "Random Forest AUC: 1.000\n",
      "Best Model: Random Forest (AUC: 1.000)\n"
     ]
    }
   ],
   "source": [
    "model_results = build_and_evaluate_models(final_dataset.collect())"
   ]
  },
  {
   "cell_type": "markdown",
   "id": "c3400b35",
   "metadata": {},
   "source": [
    "# Explainability & Business Implications"
   ]
  },
  {
   "cell_type": "code",
   "execution_count": 262,
   "id": "3b758b0b",
   "metadata": {},
   "outputs": [],
   "source": [
    "def analyze_feature_importance(model_results):\n",
    "    print(\"FEATURE IMPORTANCE ANALYSIS\")\n",
    "    print(\"-\" * 40)\n",
    "    \n",
    "    best_model_name = model_results['best_model_name']\n",
    "    feature_names = model_results['feature_names']\n",
    "    \n",
    "    # Get feature importance\n",
    "    if best_model_name == 'Random Forest':\n",
    "        importance = model_results['results'][best_model_name]['feature_importance']\n",
    "    else:  # Logistic Regression\n",
    "        importance = model_results['results'][best_model_name]['feature_importance']\n",
    "    \n",
    "    # Create feature importance dataframe\n",
    "    feature_importance_df = pd.DataFrame({\n",
    "        'feature': feature_names,\n",
    "        'importance': importance\n",
    "    }).sort_values('importance', ascending=False)\n",
    "    \n",
    "    print(\"Top 10 Most Important Features:\")\n",
    "    print(\"-\" * 35)\n",
    "    for _, row in feature_importance_df.head(10).iterrows():\n",
    "        print(f\"{row['feature']:<30} {row['importance']:.4f}\")\n",
    "    \n",
    "    return feature_importance_df"
   ]
  },
  {
   "cell_type": "code",
   "execution_count": 263,
   "id": "dde48d39",
   "metadata": {},
   "outputs": [
    {
     "data": {
      "text/plain": [
       "{'models': {'Logistic Regression': LogisticRegression(class_weight='balanced', random_state=42),\n",
       "  'Random Forest': RandomForestClassifier(class_weight='balanced', max_depth=10, random_state=42)},\n",
       " 'results': {'Logistic Regression': {'auc': 0.9953379953379953,\n",
       "   'predictions': array([1.05729615e-03, 3.50417197e-01, 2.75702658e-02, 1.26719977e-02,\n",
       "          4.49957807e-04, 2.06161768e-03, 2.97131289e-03, 4.76527038e-04,\n",
       "          1.11311788e-03, 9.88736542e-01, 9.87791805e-01, 7.19409086e-04,\n",
       "          2.74494923e-02, 1.69276560e-03, 4.93192863e-01, 4.48100021e-04,\n",
       "          3.11745692e-05, 1.70812845e-01, 9.99948121e-01, 3.14676038e-04,\n",
       "          1.65024562e-03, 6.35333367e-05, 1.25228185e-03, 7.93388511e-01,\n",
       "          9.90206773e-01, 2.18230219e-02, 2.02452595e-04, 1.99330944e-01,\n",
       "          1.25742140e-04, 9.99186253e-01, 9.87438923e-01, 9.99976293e-01,\n",
       "          9.99950307e-01, 6.67345489e-04, 9.98599074e-01, 2.14429902e-03,\n",
       "          1.21780756e-02, 1.51773598e-03, 2.88661971e-05, 7.78865196e-04,\n",
       "          1.52870563e-04, 1.03568911e-01, 8.67325423e-04, 9.66089119e-01,\n",
       "          2.60372683e-04, 1.96518621e-03, 9.99993950e-01, 1.22651356e-01,\n",
       "          4.18183542e-02, 6.59394331e-05, 2.58441851e-02, 2.87265773e-01,\n",
       "          2.93498264e-04, 1.78187734e-03, 1.11002719e-01, 2.31910010e-01,\n",
       "          9.36443695e-01, 9.99956229e-01, 1.33304542e-01, 6.01754199e-04,\n",
       "          2.69060431e-01, 1.32105648e-01, 9.43400668e-05, 9.95898989e-04,\n",
       "          2.40166103e-02, 1.98322614e-03, 3.98067577e-03, 5.88355467e-03,\n",
       "          4.79150673e-02, 4.60630569e-04, 8.57295290e-04, 3.76500178e-04,\n",
       "          8.91017639e-01, 3.44389453e-05, 8.57002201e-01, 5.44935332e-01,\n",
       "          7.64623646e-01, 1.15748757e-03, 1.67612341e-01, 8.62387804e-01,\n",
       "          1.95962830e-04, 4.32389549e-01, 2.49780107e-04, 8.66178388e-02,\n",
       "          1.17162119e-03, 2.76963292e-02, 2.89760001e-02, 5.95267520e-01,\n",
       "          3.64131323e-03, 3.42940185e-04, 2.19990153e-04, 9.99729024e-01,\n",
       "          2.83834340e-01, 4.96845033e-04, 1.28944082e-01, 3.25498331e-03,\n",
       "          2.15177062e-04, 1.74376971e-04, 9.71513703e-03, 1.84306215e-03]),\n",
       "   'feature_importance': array([1.33765578e-01, 4.93267831e-01, 4.65961086e-02, 2.58303470e-02,\n",
       "          1.00349871e-01, 5.35048638e+00, 3.26591435e-01, 1.31398502e-01,\n",
       "          4.35640929e-02, 4.27372319e-03, 1.32322271e-01, 1.52373531e-01,\n",
       "          2.01751413e-01, 6.18900746e-02, 6.19941092e-04, 1.72362091e-01,\n",
       "          2.67929995e-01, 3.63363076e-01, 8.55089504e-02, 1.75874886e-01,\n",
       "          7.39372299e-02, 3.14302795e-02, 1.35320101e-01, 5.09921161e-02,\n",
       "          3.85069731e-02, 7.64616152e-02, 1.79105473e-01, 1.25816618e-01,\n",
       "          6.21727887e-02, 6.67134673e-02, 2.54392015e-01])},\n",
       "  'Random Forest': {'auc': 1.0,\n",
       "   'predictions': array([0.        , 0.13932331, 0.08637814, 0.07      , 0.02      ,\n",
       "          0.        , 0.09674802, 0.        , 0.01      , 0.92106573,\n",
       "          0.85849164, 0.        , 0.07101216, 0.        , 0.83579439,\n",
       "          0.01      , 0.01      , 0.08      , 0.79980371, 0.01      ,\n",
       "          0.02      , 0.03      , 0.        , 0.35617448, 0.89740957,\n",
       "          0.16921802, 0.01      , 0.11823623, 0.01      , 0.89939394,\n",
       "          0.73      , 0.94074099, 0.72      , 0.        , 0.78864807,\n",
       "          0.01      , 0.06888143, 0.02      , 0.        , 0.01      ,\n",
       "          0.        , 0.05504528, 0.02      , 0.8369842 , 0.        ,\n",
       "          0.07766314, 0.82964981, 0.07974286, 0.06833613, 0.02      ,\n",
       "          0.02      , 0.12      , 0.02      , 0.        , 0.06433566,\n",
       "          0.12      , 0.91758643, 0.79648801, 0.05197452, 0.03      ,\n",
       "          0.15921802, 0.12113224, 0.        , 0.        , 0.03      ,\n",
       "          0.04966972, 0.02      , 0.03974286, 0.02      , 0.        ,\n",
       "          0.02      , 0.        , 0.86227679, 0.        , 0.7969842 ,\n",
       "          0.77976378, 0.80864686, 0.01      , 0.04      , 0.73197452,\n",
       "          0.        , 0.1160293 , 0.        , 0.13827896, 0.        ,\n",
       "          0.03      , 0.06904509, 0.59745378, 0.01      , 0.        ,\n",
       "          0.01      , 0.84766314, 0.69031066, 0.        , 0.14941432,\n",
       "          0.07976378, 0.02      , 0.01      , 0.01      , 0.        ]),\n",
       "   'feature_importance': array([0.00241448, 0.00765787, 0.00404735, 0.01183291, 0.002316  ,\n",
       "          0.48196984, 0.01273344, 0.03839073, 0.02413139, 0.01312343,\n",
       "          0.01547455, 0.01388591, 0.01122983, 0.01339794, 0.02456266,\n",
       "          0.09572046, 0.11071758, 0.0033939 , 0.00326012, 0.00963889,\n",
       "          0.01140289, 0.00813757, 0.01220987, 0.01284321, 0.00800666,\n",
       "          0.01148907, 0.00348889, 0.00972452, 0.00729673, 0.0133568 ,\n",
       "          0.00214452])}},\n",
       " 'best_model': RandomForestClassifier(class_weight='balanced', max_depth=10, random_state=42),\n",
       " 'best_model_name': 'Random Forest',\n",
       " 'feature_names': ['tier',\n",
       "  'age_group',\n",
       "  'state',\n",
       "  'end_to_start_days',\n",
       "  'tier_numeric',\n",
       "  'days_since_last_transaction',\n",
       "  'days_since_first_transaction',\n",
       "  'total_transactions',\n",
       "  'unique_transaction_days',\n",
       "  'total_spend',\n",
       "  'avg_spend_per_transaction',\n",
       "  'spend_std',\n",
       "  'max_spend',\n",
       "  'min_spend',\n",
       "  'unique_merchants',\n",
       "  'spend_last_30d',\n",
       "  'transactions_last_30d',\n",
       "  'monthly_logins',\n",
       "  'redemptions',\n",
       "  'app_opens',\n",
       "  'total_engagement',\n",
       "  'redemption_rate',\n",
       "  'app_opens_per_login',\n",
       "  'category_spend_F&B',\n",
       "  'category_spend_Retail',\n",
       "  'category_spend_eCommerce',\n",
       "  'category_spend_Travel',\n",
       "  'category_transactions_F&B',\n",
       "  'category_transactions_Retail',\n",
       "  'category_transactions_eCommerce',\n",
       "  'category_transactions_Travel'],\n",
       " 'X_test':      tier  age_group  state  end_to_start_days  tier_numeric  \\\n",
       " 404     0          4      1                425             2   \n",
       " 249     2          4      3                691             1   \n",
       " 309     2          2      4                572             1   \n",
       " 399     2          4      4                605             1   \n",
       " 144     1          4      1                508             3   \n",
       " ..    ...        ...    ...                ...           ...   \n",
       " 409     2          0      4                676             1   \n",
       " 430     1          0      3                583             3   \n",
       " 163     1          0      3                446             3   \n",
       " 339     2          4      2                381             1   \n",
       " 252     2          2      3                601             1   \n",
       " \n",
       "      days_since_last_transaction  days_since_first_transaction  \\\n",
       " 404                           12                           340   \n",
       " 249                           49                           101   \n",
       " 309                           48                           345   \n",
       " 399                           56                           317   \n",
       " 144                            6                           355   \n",
       " ..                           ...                           ...   \n",
       " 409                           35                           344   \n",
       " 430                            4                           360   \n",
       " 163                           12                           352   \n",
       " 339                           27                           327   \n",
       " 252                           22                           254   \n",
       " \n",
       "      total_transactions  unique_transaction_days  total_spend  ...  \\\n",
       " 404                  11                       11       656.26  ...   \n",
       " 249                   3                        3       122.20  ...   \n",
       " 309                   6                        6       438.68  ...   \n",
       " 399                   7                        7       738.72  ...   \n",
       " 144                   7                        7       142.94  ...   \n",
       " ..                  ...                      ...          ...  ...   \n",
       " 409                   8                        8       576.98  ...   \n",
       " 430                   7                        7       480.23  ...   \n",
       " 163                   7                        7       200.55  ...   \n",
       " 339                   7                        7       580.78  ...   \n",
       " 252                   8                        7       304.49  ...   \n",
       " \n",
       "      redemption_rate  app_opens_per_login  category_spend_F&B  \\\n",
       " 404         1.000000             3.000000              191.49   \n",
       " 249         0.500000             3.500000                0.00   \n",
       " 309         1.333333             3.666667              133.99   \n",
       " 399         0.750000             2.250000               62.84   \n",
       " 144         0.400000             1.200000               18.76   \n",
       " ..               ...                  ...                 ...   \n",
       " 409         0.600000             1.400000              104.87   \n",
       " 430         0.666667             3.000000              167.59   \n",
       " 163         0.400000             1.000000               71.98   \n",
       " 339         1.000000            11.000000              157.92   \n",
       " 252         0.750000             3.250000               90.51   \n",
       " \n",
       "      category_spend_Retail  category_spend_eCommerce  category_spend_Travel  \\\n",
       " 404                 291.81                    172.96                   0.00   \n",
       " 249                 103.55                     18.65                   0.00   \n",
       " 309                  42.10                    262.59                   0.00   \n",
       " 399                 246.50                     22.50                 406.88   \n",
       " 144                  10.66                    113.52                   0.00   \n",
       " ..                     ...                       ...                    ...   \n",
       " 409                 374.51                     97.60                   0.00   \n",
       " 430                 282.93                     29.71                   0.00   \n",
       " 163                   2.78                    125.79                   0.00   \n",
       " 339                  62.86                    360.00                   0.00   \n",
       " 252                  81.91                    132.07                   0.00   \n",
       " \n",
       "      category_transactions_F&B  category_transactions_Retail  \\\n",
       " 404                          2                             4   \n",
       " 249                          0                             2   \n",
       " 309                          2                             1   \n",
       " 399                          1                             4   \n",
       " 144                          2                             1   \n",
       " ..                         ...                           ...   \n",
       " 409                          2                             3   \n",
       " 430                          2                             4   \n",
       " 163                          1                             1   \n",
       " 339                          2                             1   \n",
       " 252                          4                             2   \n",
       " \n",
       "      category_transactions_eCommerce  category_transactions_Travel  \n",
       " 404                                5                             0  \n",
       " 249                                1                             0  \n",
       " 309                                3                             0  \n",
       " 399                                1                             1  \n",
       " 144                                4                             0  \n",
       " ..                               ...                           ...  \n",
       " 409                                3                             0  \n",
       " 430                                1                             0  \n",
       " 163                                5                             0  \n",
       " 339                                4                             0  \n",
       " 252                                2                             0  \n",
       " \n",
       " [100 rows x 31 columns],\n",
       " 'y_test': 404    0\n",
       " 249    0\n",
       " 309    0\n",
       " 399    0\n",
       " 144    0\n",
       "       ..\n",
       " 409    0\n",
       " 430    0\n",
       " 163    0\n",
       " 339    0\n",
       " 252    0\n",
       " Name: is_churned, Length: 100, dtype: int64,\n",
       " 'scaler': StandardScaler()}"
      ]
     },
     "execution_count": 263,
     "metadata": {},
     "output_type": "execute_result"
    }
   ],
   "source": [
    "model_results"
   ]
  },
  {
   "cell_type": "code",
   "execution_count": 264,
   "id": "803120d9",
   "metadata": {},
   "outputs": [
    {
     "data": {
      "text/html": [
       "<style>#sk-container-id-6 {\n",
       "  /* Definition of color scheme common for light and dark mode */\n",
       "  --sklearn-color-text: #000;\n",
       "  --sklearn-color-text-muted: #666;\n",
       "  --sklearn-color-line: gray;\n",
       "  /* Definition of color scheme for unfitted estimators */\n",
       "  --sklearn-color-unfitted-level-0: #fff5e6;\n",
       "  --sklearn-color-unfitted-level-1: #f6e4d2;\n",
       "  --sklearn-color-unfitted-level-2: #ffe0b3;\n",
       "  --sklearn-color-unfitted-level-3: chocolate;\n",
       "  /* Definition of color scheme for fitted estimators */\n",
       "  --sklearn-color-fitted-level-0: #f0f8ff;\n",
       "  --sklearn-color-fitted-level-1: #d4ebff;\n",
       "  --sklearn-color-fitted-level-2: #b3dbfd;\n",
       "  --sklearn-color-fitted-level-3: cornflowerblue;\n",
       "\n",
       "  /* Specific color for light theme */\n",
       "  --sklearn-color-text-on-default-background: var(--sg-text-color, var(--theme-code-foreground, var(--jp-content-font-color1, black)));\n",
       "  --sklearn-color-background: var(--sg-background-color, var(--theme-background, var(--jp-layout-color0, white)));\n",
       "  --sklearn-color-border-box: var(--sg-text-color, var(--theme-code-foreground, var(--jp-content-font-color1, black)));\n",
       "  --sklearn-color-icon: #696969;\n",
       "\n",
       "  @media (prefers-color-scheme: dark) {\n",
       "    /* Redefinition of color scheme for dark theme */\n",
       "    --sklearn-color-text-on-default-background: var(--sg-text-color, var(--theme-code-foreground, var(--jp-content-font-color1, white)));\n",
       "    --sklearn-color-background: var(--sg-background-color, var(--theme-background, var(--jp-layout-color0, #111)));\n",
       "    --sklearn-color-border-box: var(--sg-text-color, var(--theme-code-foreground, var(--jp-content-font-color1, white)));\n",
       "    --sklearn-color-icon: #878787;\n",
       "  }\n",
       "}\n",
       "\n",
       "#sk-container-id-6 {\n",
       "  color: var(--sklearn-color-text);\n",
       "}\n",
       "\n",
       "#sk-container-id-6 pre {\n",
       "  padding: 0;\n",
       "}\n",
       "\n",
       "#sk-container-id-6 input.sk-hidden--visually {\n",
       "  border: 0;\n",
       "  clip: rect(1px 1px 1px 1px);\n",
       "  clip: rect(1px, 1px, 1px, 1px);\n",
       "  height: 1px;\n",
       "  margin: -1px;\n",
       "  overflow: hidden;\n",
       "  padding: 0;\n",
       "  position: absolute;\n",
       "  width: 1px;\n",
       "}\n",
       "\n",
       "#sk-container-id-6 div.sk-dashed-wrapped {\n",
       "  border: 1px dashed var(--sklearn-color-line);\n",
       "  margin: 0 0.4em 0.5em 0.4em;\n",
       "  box-sizing: border-box;\n",
       "  padding-bottom: 0.4em;\n",
       "  background-color: var(--sklearn-color-background);\n",
       "}\n",
       "\n",
       "#sk-container-id-6 div.sk-container {\n",
       "  /* jupyter's `normalize.less` sets `[hidden] { display: none; }`\n",
       "     but bootstrap.min.css set `[hidden] { display: none !important; }`\n",
       "     so we also need the `!important` here to be able to override the\n",
       "     default hidden behavior on the sphinx rendered scikit-learn.org.\n",
       "     See: https://github.com/scikit-learn/scikit-learn/issues/21755 */\n",
       "  display: inline-block !important;\n",
       "  position: relative;\n",
       "}\n",
       "\n",
       "#sk-container-id-6 div.sk-text-repr-fallback {\n",
       "  display: none;\n",
       "}\n",
       "\n",
       "div.sk-parallel-item,\n",
       "div.sk-serial,\n",
       "div.sk-item {\n",
       "  /* draw centered vertical line to link estimators */\n",
       "  background-image: linear-gradient(var(--sklearn-color-text-on-default-background), var(--sklearn-color-text-on-default-background));\n",
       "  background-size: 2px 100%;\n",
       "  background-repeat: no-repeat;\n",
       "  background-position: center center;\n",
       "}\n",
       "\n",
       "/* Parallel-specific style estimator block */\n",
       "\n",
       "#sk-container-id-6 div.sk-parallel-item::after {\n",
       "  content: \"\";\n",
       "  width: 100%;\n",
       "  border-bottom: 2px solid var(--sklearn-color-text-on-default-background);\n",
       "  flex-grow: 1;\n",
       "}\n",
       "\n",
       "#sk-container-id-6 div.sk-parallel {\n",
       "  display: flex;\n",
       "  align-items: stretch;\n",
       "  justify-content: center;\n",
       "  background-color: var(--sklearn-color-background);\n",
       "  position: relative;\n",
       "}\n",
       "\n",
       "#sk-container-id-6 div.sk-parallel-item {\n",
       "  display: flex;\n",
       "  flex-direction: column;\n",
       "}\n",
       "\n",
       "#sk-container-id-6 div.sk-parallel-item:first-child::after {\n",
       "  align-self: flex-end;\n",
       "  width: 50%;\n",
       "}\n",
       "\n",
       "#sk-container-id-6 div.sk-parallel-item:last-child::after {\n",
       "  align-self: flex-start;\n",
       "  width: 50%;\n",
       "}\n",
       "\n",
       "#sk-container-id-6 div.sk-parallel-item:only-child::after {\n",
       "  width: 0;\n",
       "}\n",
       "\n",
       "/* Serial-specific style estimator block */\n",
       "\n",
       "#sk-container-id-6 div.sk-serial {\n",
       "  display: flex;\n",
       "  flex-direction: column;\n",
       "  align-items: center;\n",
       "  background-color: var(--sklearn-color-background);\n",
       "  padding-right: 1em;\n",
       "  padding-left: 1em;\n",
       "}\n",
       "\n",
       "\n",
       "/* Toggleable style: style used for estimator/Pipeline/ColumnTransformer box that is\n",
       "clickable and can be expanded/collapsed.\n",
       "- Pipeline and ColumnTransformer use this feature and define the default style\n",
       "- Estimators will overwrite some part of the style using the `sk-estimator` class\n",
       "*/\n",
       "\n",
       "/* Pipeline and ColumnTransformer style (default) */\n",
       "\n",
       "#sk-container-id-6 div.sk-toggleable {\n",
       "  /* Default theme specific background. It is overwritten whether we have a\n",
       "  specific estimator or a Pipeline/ColumnTransformer */\n",
       "  background-color: var(--sklearn-color-background);\n",
       "}\n",
       "\n",
       "/* Toggleable label */\n",
       "#sk-container-id-6 label.sk-toggleable__label {\n",
       "  cursor: pointer;\n",
       "  display: flex;\n",
       "  width: 100%;\n",
       "  margin-bottom: 0;\n",
       "  padding: 0.5em;\n",
       "  box-sizing: border-box;\n",
       "  text-align: center;\n",
       "  align-items: start;\n",
       "  justify-content: space-between;\n",
       "  gap: 0.5em;\n",
       "}\n",
       "\n",
       "#sk-container-id-6 label.sk-toggleable__label .caption {\n",
       "  font-size: 0.6rem;\n",
       "  font-weight: lighter;\n",
       "  color: var(--sklearn-color-text-muted);\n",
       "}\n",
       "\n",
       "#sk-container-id-6 label.sk-toggleable__label-arrow:before {\n",
       "  /* Arrow on the left of the label */\n",
       "  content: \"▸\";\n",
       "  float: left;\n",
       "  margin-right: 0.25em;\n",
       "  color: var(--sklearn-color-icon);\n",
       "}\n",
       "\n",
       "#sk-container-id-6 label.sk-toggleable__label-arrow:hover:before {\n",
       "  color: var(--sklearn-color-text);\n",
       "}\n",
       "\n",
       "/* Toggleable content - dropdown */\n",
       "\n",
       "#sk-container-id-6 div.sk-toggleable__content {\n",
       "  display: none;\n",
       "  text-align: left;\n",
       "  /* unfitted */\n",
       "  background-color: var(--sklearn-color-unfitted-level-0);\n",
       "}\n",
       "\n",
       "#sk-container-id-6 div.sk-toggleable__content.fitted {\n",
       "  /* fitted */\n",
       "  background-color: var(--sklearn-color-fitted-level-0);\n",
       "}\n",
       "\n",
       "#sk-container-id-6 div.sk-toggleable__content pre {\n",
       "  margin: 0.2em;\n",
       "  border-radius: 0.25em;\n",
       "  color: var(--sklearn-color-text);\n",
       "  /* unfitted */\n",
       "  background-color: var(--sklearn-color-unfitted-level-0);\n",
       "}\n",
       "\n",
       "#sk-container-id-6 div.sk-toggleable__content.fitted pre {\n",
       "  /* unfitted */\n",
       "  background-color: var(--sklearn-color-fitted-level-0);\n",
       "}\n",
       "\n",
       "#sk-container-id-6 input.sk-toggleable__control:checked~div.sk-toggleable__content {\n",
       "  /* Expand drop-down */\n",
       "  display: block;\n",
       "  width: 100%;\n",
       "  overflow: visible;\n",
       "}\n",
       "\n",
       "#sk-container-id-6 input.sk-toggleable__control:checked~label.sk-toggleable__label-arrow:before {\n",
       "  content: \"▾\";\n",
       "}\n",
       "\n",
       "/* Pipeline/ColumnTransformer-specific style */\n",
       "\n",
       "#sk-container-id-6 div.sk-label input.sk-toggleable__control:checked~label.sk-toggleable__label {\n",
       "  color: var(--sklearn-color-text);\n",
       "  background-color: var(--sklearn-color-unfitted-level-2);\n",
       "}\n",
       "\n",
       "#sk-container-id-6 div.sk-label.fitted input.sk-toggleable__control:checked~label.sk-toggleable__label {\n",
       "  background-color: var(--sklearn-color-fitted-level-2);\n",
       "}\n",
       "\n",
       "/* Estimator-specific style */\n",
       "\n",
       "/* Colorize estimator box */\n",
       "#sk-container-id-6 div.sk-estimator input.sk-toggleable__control:checked~label.sk-toggleable__label {\n",
       "  /* unfitted */\n",
       "  background-color: var(--sklearn-color-unfitted-level-2);\n",
       "}\n",
       "\n",
       "#sk-container-id-6 div.sk-estimator.fitted input.sk-toggleable__control:checked~label.sk-toggleable__label {\n",
       "  /* fitted */\n",
       "  background-color: var(--sklearn-color-fitted-level-2);\n",
       "}\n",
       "\n",
       "#sk-container-id-6 div.sk-label label.sk-toggleable__label,\n",
       "#sk-container-id-6 div.sk-label label {\n",
       "  /* The background is the default theme color */\n",
       "  color: var(--sklearn-color-text-on-default-background);\n",
       "}\n",
       "\n",
       "/* On hover, darken the color of the background */\n",
       "#sk-container-id-6 div.sk-label:hover label.sk-toggleable__label {\n",
       "  color: var(--sklearn-color-text);\n",
       "  background-color: var(--sklearn-color-unfitted-level-2);\n",
       "}\n",
       "\n",
       "/* Label box, darken color on hover, fitted */\n",
       "#sk-container-id-6 div.sk-label.fitted:hover label.sk-toggleable__label.fitted {\n",
       "  color: var(--sklearn-color-text);\n",
       "  background-color: var(--sklearn-color-fitted-level-2);\n",
       "}\n",
       "\n",
       "/* Estimator label */\n",
       "\n",
       "#sk-container-id-6 div.sk-label label {\n",
       "  font-family: monospace;\n",
       "  font-weight: bold;\n",
       "  display: inline-block;\n",
       "  line-height: 1.2em;\n",
       "}\n",
       "\n",
       "#sk-container-id-6 div.sk-label-container {\n",
       "  text-align: center;\n",
       "}\n",
       "\n",
       "/* Estimator-specific */\n",
       "#sk-container-id-6 div.sk-estimator {\n",
       "  font-family: monospace;\n",
       "  border: 1px dotted var(--sklearn-color-border-box);\n",
       "  border-radius: 0.25em;\n",
       "  box-sizing: border-box;\n",
       "  margin-bottom: 0.5em;\n",
       "  /* unfitted */\n",
       "  background-color: var(--sklearn-color-unfitted-level-0);\n",
       "}\n",
       "\n",
       "#sk-container-id-6 div.sk-estimator.fitted {\n",
       "  /* fitted */\n",
       "  background-color: var(--sklearn-color-fitted-level-0);\n",
       "}\n",
       "\n",
       "/* on hover */\n",
       "#sk-container-id-6 div.sk-estimator:hover {\n",
       "  /* unfitted */\n",
       "  background-color: var(--sklearn-color-unfitted-level-2);\n",
       "}\n",
       "\n",
       "#sk-container-id-6 div.sk-estimator.fitted:hover {\n",
       "  /* fitted */\n",
       "  background-color: var(--sklearn-color-fitted-level-2);\n",
       "}\n",
       "\n",
       "/* Specification for estimator info (e.g. \"i\" and \"?\") */\n",
       "\n",
       "/* Common style for \"i\" and \"?\" */\n",
       "\n",
       ".sk-estimator-doc-link,\n",
       "a:link.sk-estimator-doc-link,\n",
       "a:visited.sk-estimator-doc-link {\n",
       "  float: right;\n",
       "  font-size: smaller;\n",
       "  line-height: 1em;\n",
       "  font-family: monospace;\n",
       "  background-color: var(--sklearn-color-background);\n",
       "  border-radius: 1em;\n",
       "  height: 1em;\n",
       "  width: 1em;\n",
       "  text-decoration: none !important;\n",
       "  margin-left: 0.5em;\n",
       "  text-align: center;\n",
       "  /* unfitted */\n",
       "  border: var(--sklearn-color-unfitted-level-1) 1pt solid;\n",
       "  color: var(--sklearn-color-unfitted-level-1);\n",
       "}\n",
       "\n",
       ".sk-estimator-doc-link.fitted,\n",
       "a:link.sk-estimator-doc-link.fitted,\n",
       "a:visited.sk-estimator-doc-link.fitted {\n",
       "  /* fitted */\n",
       "  border: var(--sklearn-color-fitted-level-1) 1pt solid;\n",
       "  color: var(--sklearn-color-fitted-level-1);\n",
       "}\n",
       "\n",
       "/* On hover */\n",
       "div.sk-estimator:hover .sk-estimator-doc-link:hover,\n",
       ".sk-estimator-doc-link:hover,\n",
       "div.sk-label-container:hover .sk-estimator-doc-link:hover,\n",
       ".sk-estimator-doc-link:hover {\n",
       "  /* unfitted */\n",
       "  background-color: var(--sklearn-color-unfitted-level-3);\n",
       "  color: var(--sklearn-color-background);\n",
       "  text-decoration: none;\n",
       "}\n",
       "\n",
       "div.sk-estimator.fitted:hover .sk-estimator-doc-link.fitted:hover,\n",
       ".sk-estimator-doc-link.fitted:hover,\n",
       "div.sk-label-container:hover .sk-estimator-doc-link.fitted:hover,\n",
       ".sk-estimator-doc-link.fitted:hover {\n",
       "  /* fitted */\n",
       "  background-color: var(--sklearn-color-fitted-level-3);\n",
       "  color: var(--sklearn-color-background);\n",
       "  text-decoration: none;\n",
       "}\n",
       "\n",
       "/* Span, style for the box shown on hovering the info icon */\n",
       ".sk-estimator-doc-link span {\n",
       "  display: none;\n",
       "  z-index: 9999;\n",
       "  position: relative;\n",
       "  font-weight: normal;\n",
       "  right: .2ex;\n",
       "  padding: .5ex;\n",
       "  margin: .5ex;\n",
       "  width: min-content;\n",
       "  min-width: 20ex;\n",
       "  max-width: 50ex;\n",
       "  color: var(--sklearn-color-text);\n",
       "  box-shadow: 2pt 2pt 4pt #999;\n",
       "  /* unfitted */\n",
       "  background: var(--sklearn-color-unfitted-level-0);\n",
       "  border: .5pt solid var(--sklearn-color-unfitted-level-3);\n",
       "}\n",
       "\n",
       ".sk-estimator-doc-link.fitted span {\n",
       "  /* fitted */\n",
       "  background: var(--sklearn-color-fitted-level-0);\n",
       "  border: var(--sklearn-color-fitted-level-3);\n",
       "}\n",
       "\n",
       ".sk-estimator-doc-link:hover span {\n",
       "  display: block;\n",
       "}\n",
       "\n",
       "/* \"?\"-specific style due to the `<a>` HTML tag */\n",
       "\n",
       "#sk-container-id-6 a.estimator_doc_link {\n",
       "  float: right;\n",
       "  font-size: 1rem;\n",
       "  line-height: 1em;\n",
       "  font-family: monospace;\n",
       "  background-color: var(--sklearn-color-background);\n",
       "  border-radius: 1rem;\n",
       "  height: 1rem;\n",
       "  width: 1rem;\n",
       "  text-decoration: none;\n",
       "  /* unfitted */\n",
       "  color: var(--sklearn-color-unfitted-level-1);\n",
       "  border: var(--sklearn-color-unfitted-level-1) 1pt solid;\n",
       "}\n",
       "\n",
       "#sk-container-id-6 a.estimator_doc_link.fitted {\n",
       "  /* fitted */\n",
       "  border: var(--sklearn-color-fitted-level-1) 1pt solid;\n",
       "  color: var(--sklearn-color-fitted-level-1);\n",
       "}\n",
       "\n",
       "/* On hover */\n",
       "#sk-container-id-6 a.estimator_doc_link:hover {\n",
       "  /* unfitted */\n",
       "  background-color: var(--sklearn-color-unfitted-level-3);\n",
       "  color: var(--sklearn-color-background);\n",
       "  text-decoration: none;\n",
       "}\n",
       "\n",
       "#sk-container-id-6 a.estimator_doc_link.fitted:hover {\n",
       "  /* fitted */\n",
       "  background-color: var(--sklearn-color-fitted-level-3);\n",
       "}\n",
       "\n",
       ".estimator-table summary {\n",
       "    padding: .5rem;\n",
       "    font-family: monospace;\n",
       "    cursor: pointer;\n",
       "}\n",
       "\n",
       ".estimator-table details[open] {\n",
       "    padding-left: 0.1rem;\n",
       "    padding-right: 0.1rem;\n",
       "    padding-bottom: 0.3rem;\n",
       "}\n",
       "\n",
       ".estimator-table .parameters-table {\n",
       "    margin-left: auto !important;\n",
       "    margin-right: auto !important;\n",
       "}\n",
       "\n",
       ".estimator-table .parameters-table tr:nth-child(odd) {\n",
       "    background-color: #fff;\n",
       "}\n",
       "\n",
       ".estimator-table .parameters-table tr:nth-child(even) {\n",
       "    background-color: #f6f6f6;\n",
       "}\n",
       "\n",
       ".estimator-table .parameters-table tr:hover {\n",
       "    background-color: #e0e0e0;\n",
       "}\n",
       "\n",
       ".estimator-table table td {\n",
       "    border: 1px solid rgba(106, 105, 104, 0.232);\n",
       "}\n",
       "\n",
       ".user-set td {\n",
       "    color:rgb(255, 94, 0);\n",
       "    text-align: left;\n",
       "}\n",
       "\n",
       ".user-set td.value pre {\n",
       "    color:rgb(255, 94, 0) !important;\n",
       "    background-color: transparent !important;\n",
       "}\n",
       "\n",
       ".default td {\n",
       "    color: black;\n",
       "    text-align: left;\n",
       "}\n",
       "\n",
       ".user-set td i,\n",
       ".default td i {\n",
       "    color: black;\n",
       "}\n",
       "\n",
       ".copy-paste-icon {\n",
       "    background-image: url(data:image/svg+xml;base64,PHN2ZyB4bWxucz0iaHR0cDovL3d3dy53My5vcmcvMjAwMC9zdmciIHZpZXdCb3g9IjAgMCA0NDggNTEyIj48IS0tIUZvbnQgQXdlc29tZSBGcmVlIDYuNy4yIGJ5IEBmb250YXdlc29tZSAtIGh0dHBzOi8vZm9udGF3ZXNvbWUuY29tIExpY2Vuc2UgLSBodHRwczovL2ZvbnRhd2Vzb21lLmNvbS9saWNlbnNlL2ZyZWUgQ29weXJpZ2h0IDIwMjUgRm9udGljb25zLCBJbmMuLS0+PHBhdGggZD0iTTIwOCAwTDMzMi4xIDBjMTIuNyAwIDI0LjkgNS4xIDMzLjkgMTQuMWw2Ny45IDY3LjljOSA5IDE0LjEgMjEuMiAxNC4xIDMzLjlMNDQ4IDMzNmMwIDI2LjUtMjEuNSA0OC00OCA0OGwtMTkyIDBjLTI2LjUgMC00OC0yMS41LTQ4LTQ4bDAtMjg4YzAtMjYuNSAyMS41LTQ4IDQ4LTQ4ek00OCAxMjhsODAgMCAwIDY0LTY0IDAgMCAyNTYgMTkyIDAgMC0zMiA2NCAwIDAgNDhjMCAyNi41LTIxLjUgNDgtNDggNDhMNDggNTEyYy0yNi41IDAtNDgtMjEuNS00OC00OEwwIDE3NmMwLTI2LjUgMjEuNS00OCA0OC00OHoiLz48L3N2Zz4=);\n",
       "    background-repeat: no-repeat;\n",
       "    background-size: 14px 14px;\n",
       "    background-position: 0;\n",
       "    display: inline-block;\n",
       "    width: 14px;\n",
       "    height: 14px;\n",
       "    cursor: pointer;\n",
       "}\n",
       "</style><body><div id=\"sk-container-id-6\" class=\"sk-top-container\"><div class=\"sk-text-repr-fallback\"><pre>LogisticRegression(class_weight=&#x27;balanced&#x27;, random_state=42)</pre><b>In a Jupyter environment, please rerun this cell to show the HTML representation or trust the notebook. <br />On GitHub, the HTML representation is unable to render, please try loading this page with nbviewer.org.</b></div><div class=\"sk-container\" hidden><div class=\"sk-item\"><div class=\"sk-estimator fitted sk-toggleable\"><input class=\"sk-toggleable__control sk-hidden--visually\" id=\"sk-estimator-id-6\" type=\"checkbox\" checked><label for=\"sk-estimator-id-6\" class=\"sk-toggleable__label fitted sk-toggleable__label-arrow\"><div><div>LogisticRegression</div></div><div><a class=\"sk-estimator-doc-link fitted\" rel=\"noreferrer\" target=\"_blank\" href=\"https://scikit-learn.org/1.7/modules/generated/sklearn.linear_model.LogisticRegression.html\">?<span>Documentation for LogisticRegression</span></a><span class=\"sk-estimator-doc-link fitted\">i<span>Fitted</span></span></div></label><div class=\"sk-toggleable__content fitted\" data-param-prefix=\"\">\n",
       "        <div class=\"estimator-table\">\n",
       "            <details>\n",
       "                <summary>Parameters</summary>\n",
       "                <table class=\"parameters-table\">\n",
       "                  <tbody>\n",
       "                    \n",
       "        <tr class=\"default\">\n",
       "            <td><i class=\"copy-paste-icon\"\n",
       "                 onclick=\"copyToClipboard('penalty',\n",
       "                          this.parentElement.nextElementSibling)\"\n",
       "            ></i></td>\n",
       "            <td class=\"param\">penalty&nbsp;</td>\n",
       "            <td class=\"value\">&#x27;l2&#x27;</td>\n",
       "        </tr>\n",
       "    \n",
       "\n",
       "        <tr class=\"default\">\n",
       "            <td><i class=\"copy-paste-icon\"\n",
       "                 onclick=\"copyToClipboard('dual',\n",
       "                          this.parentElement.nextElementSibling)\"\n",
       "            ></i></td>\n",
       "            <td class=\"param\">dual&nbsp;</td>\n",
       "            <td class=\"value\">False</td>\n",
       "        </tr>\n",
       "    \n",
       "\n",
       "        <tr class=\"default\">\n",
       "            <td><i class=\"copy-paste-icon\"\n",
       "                 onclick=\"copyToClipboard('tol',\n",
       "                          this.parentElement.nextElementSibling)\"\n",
       "            ></i></td>\n",
       "            <td class=\"param\">tol&nbsp;</td>\n",
       "            <td class=\"value\">0.0001</td>\n",
       "        </tr>\n",
       "    \n",
       "\n",
       "        <tr class=\"default\">\n",
       "            <td><i class=\"copy-paste-icon\"\n",
       "                 onclick=\"copyToClipboard('C',\n",
       "                          this.parentElement.nextElementSibling)\"\n",
       "            ></i></td>\n",
       "            <td class=\"param\">C&nbsp;</td>\n",
       "            <td class=\"value\">1.0</td>\n",
       "        </tr>\n",
       "    \n",
       "\n",
       "        <tr class=\"default\">\n",
       "            <td><i class=\"copy-paste-icon\"\n",
       "                 onclick=\"copyToClipboard('fit_intercept',\n",
       "                          this.parentElement.nextElementSibling)\"\n",
       "            ></i></td>\n",
       "            <td class=\"param\">fit_intercept&nbsp;</td>\n",
       "            <td class=\"value\">True</td>\n",
       "        </tr>\n",
       "    \n",
       "\n",
       "        <tr class=\"default\">\n",
       "            <td><i class=\"copy-paste-icon\"\n",
       "                 onclick=\"copyToClipboard('intercept_scaling',\n",
       "                          this.parentElement.nextElementSibling)\"\n",
       "            ></i></td>\n",
       "            <td class=\"param\">intercept_scaling&nbsp;</td>\n",
       "            <td class=\"value\">1</td>\n",
       "        </tr>\n",
       "    \n",
       "\n",
       "        <tr class=\"user-set\">\n",
       "            <td><i class=\"copy-paste-icon\"\n",
       "                 onclick=\"copyToClipboard('class_weight',\n",
       "                          this.parentElement.nextElementSibling)\"\n",
       "            ></i></td>\n",
       "            <td class=\"param\">class_weight&nbsp;</td>\n",
       "            <td class=\"value\">&#x27;balanced&#x27;</td>\n",
       "        </tr>\n",
       "    \n",
       "\n",
       "        <tr class=\"user-set\">\n",
       "            <td><i class=\"copy-paste-icon\"\n",
       "                 onclick=\"copyToClipboard('random_state',\n",
       "                          this.parentElement.nextElementSibling)\"\n",
       "            ></i></td>\n",
       "            <td class=\"param\">random_state&nbsp;</td>\n",
       "            <td class=\"value\">42</td>\n",
       "        </tr>\n",
       "    \n",
       "\n",
       "        <tr class=\"default\">\n",
       "            <td><i class=\"copy-paste-icon\"\n",
       "                 onclick=\"copyToClipboard('solver',\n",
       "                          this.parentElement.nextElementSibling)\"\n",
       "            ></i></td>\n",
       "            <td class=\"param\">solver&nbsp;</td>\n",
       "            <td class=\"value\">&#x27;lbfgs&#x27;</td>\n",
       "        </tr>\n",
       "    \n",
       "\n",
       "        <tr class=\"default\">\n",
       "            <td><i class=\"copy-paste-icon\"\n",
       "                 onclick=\"copyToClipboard('max_iter',\n",
       "                          this.parentElement.nextElementSibling)\"\n",
       "            ></i></td>\n",
       "            <td class=\"param\">max_iter&nbsp;</td>\n",
       "            <td class=\"value\">100</td>\n",
       "        </tr>\n",
       "    \n",
       "\n",
       "        <tr class=\"default\">\n",
       "            <td><i class=\"copy-paste-icon\"\n",
       "                 onclick=\"copyToClipboard('multi_class',\n",
       "                          this.parentElement.nextElementSibling)\"\n",
       "            ></i></td>\n",
       "            <td class=\"param\">multi_class&nbsp;</td>\n",
       "            <td class=\"value\">&#x27;deprecated&#x27;</td>\n",
       "        </tr>\n",
       "    \n",
       "\n",
       "        <tr class=\"default\">\n",
       "            <td><i class=\"copy-paste-icon\"\n",
       "                 onclick=\"copyToClipboard('verbose',\n",
       "                          this.parentElement.nextElementSibling)\"\n",
       "            ></i></td>\n",
       "            <td class=\"param\">verbose&nbsp;</td>\n",
       "            <td class=\"value\">0</td>\n",
       "        </tr>\n",
       "    \n",
       "\n",
       "        <tr class=\"default\">\n",
       "            <td><i class=\"copy-paste-icon\"\n",
       "                 onclick=\"copyToClipboard('warm_start',\n",
       "                          this.parentElement.nextElementSibling)\"\n",
       "            ></i></td>\n",
       "            <td class=\"param\">warm_start&nbsp;</td>\n",
       "            <td class=\"value\">False</td>\n",
       "        </tr>\n",
       "    \n",
       "\n",
       "        <tr class=\"default\">\n",
       "            <td><i class=\"copy-paste-icon\"\n",
       "                 onclick=\"copyToClipboard('n_jobs',\n",
       "                          this.parentElement.nextElementSibling)\"\n",
       "            ></i></td>\n",
       "            <td class=\"param\">n_jobs&nbsp;</td>\n",
       "            <td class=\"value\">None</td>\n",
       "        </tr>\n",
       "    \n",
       "\n",
       "        <tr class=\"default\">\n",
       "            <td><i class=\"copy-paste-icon\"\n",
       "                 onclick=\"copyToClipboard('l1_ratio',\n",
       "                          this.parentElement.nextElementSibling)\"\n",
       "            ></i></td>\n",
       "            <td class=\"param\">l1_ratio&nbsp;</td>\n",
       "            <td class=\"value\">None</td>\n",
       "        </tr>\n",
       "    \n",
       "                  </tbody>\n",
       "                </table>\n",
       "            </details>\n",
       "        </div>\n",
       "    </div></div></div></div></div><script>function copyToClipboard(text, element) {\n",
       "    // Get the parameter prefix from the closest toggleable content\n",
       "    const toggleableContent = element.closest('.sk-toggleable__content');\n",
       "    const paramPrefix = toggleableContent ? toggleableContent.dataset.paramPrefix : '';\n",
       "    const fullParamName = paramPrefix ? `${paramPrefix}${text}` : text;\n",
       "\n",
       "    const originalStyle = element.style;\n",
       "    const computedStyle = window.getComputedStyle(element);\n",
       "    const originalWidth = computedStyle.width;\n",
       "    const originalHTML = element.innerHTML.replace('Copied!', '');\n",
       "\n",
       "    navigator.clipboard.writeText(fullParamName)\n",
       "        .then(() => {\n",
       "            element.style.width = originalWidth;\n",
       "            element.style.color = 'green';\n",
       "            element.innerHTML = \"Copied!\";\n",
       "\n",
       "            setTimeout(() => {\n",
       "                element.innerHTML = originalHTML;\n",
       "                element.style = originalStyle;\n",
       "            }, 2000);\n",
       "        })\n",
       "        .catch(err => {\n",
       "            console.error('Failed to copy:', err);\n",
       "            element.style.color = 'red';\n",
       "            element.innerHTML = \"Failed!\";\n",
       "            setTimeout(() => {\n",
       "                element.innerHTML = originalHTML;\n",
       "                element.style = originalStyle;\n",
       "            }, 2000);\n",
       "        });\n",
       "    return false;\n",
       "}\n",
       "\n",
       "document.querySelectorAll('.fa-regular.fa-copy').forEach(function(element) {\n",
       "    const toggleableContent = element.closest('.sk-toggleable__content');\n",
       "    const paramPrefix = toggleableContent ? toggleableContent.dataset.paramPrefix : '';\n",
       "    const paramName = element.parentElement.nextElementSibling.textContent.trim();\n",
       "    const fullParamName = paramPrefix ? `${paramPrefix}${paramName}` : paramName;\n",
       "\n",
       "    element.setAttribute('title', fullParamName);\n",
       "});\n",
       "</script></body>"
      ],
      "text/plain": [
       "LogisticRegression(class_weight='balanced', random_state=42)"
      ]
     },
     "execution_count": 264,
     "metadata": {},
     "output_type": "execute_result"
    }
   ],
   "source": [
    "model_results[\"models\"][\"Logistic Regression\"]"
   ]
  },
  {
   "cell_type": "code",
   "execution_count": 265,
   "id": "a63b20b1",
   "metadata": {},
   "outputs": [
    {
     "data": {
      "text/plain": [
       "array([-2.8623042])"
      ]
     },
     "execution_count": 265,
     "metadata": {},
     "output_type": "execute_result"
    }
   ],
   "source": [
    "model_results[\"models\"][\"Logistic Regression\"].intercept_"
   ]
  },
  {
   "cell_type": "code",
   "execution_count": 266,
   "id": "a3f5f7ea",
   "metadata": {},
   "outputs": [
    {
     "name": "stdout",
     "output_type": "stream",
     "text": [
      "FEATURE IMPORTANCE ANALYSIS\n",
      "----------------------------------------\n",
      "Top 10 Most Important Features:\n",
      "-----------------------------------\n",
      "days_since_last_transaction    0.4820\n",
      "transactions_last_30d          0.1107\n",
      "spend_last_30d                 0.0957\n",
      "total_transactions             0.0384\n",
      "unique_merchants               0.0246\n",
      "unique_transaction_days        0.0241\n",
      "avg_spend_per_transaction      0.0155\n",
      "spend_std                      0.0139\n",
      "min_spend                      0.0134\n",
      "category_transactions_eCommerce 0.0134\n"
     ]
    },
    {
     "data": {
      "text/html": [
       "<div>\n",
       "<style scoped>\n",
       "    .dataframe tbody tr th:only-of-type {\n",
       "        vertical-align: middle;\n",
       "    }\n",
       "\n",
       "    .dataframe tbody tr th {\n",
       "        vertical-align: top;\n",
       "    }\n",
       "\n",
       "    .dataframe thead th {\n",
       "        text-align: right;\n",
       "    }\n",
       "</style>\n",
       "<table border=\"1\" class=\"dataframe\">\n",
       "  <thead>\n",
       "    <tr style=\"text-align: right;\">\n",
       "      <th></th>\n",
       "      <th>feature</th>\n",
       "      <th>importance</th>\n",
       "    </tr>\n",
       "  </thead>\n",
       "  <tbody>\n",
       "    <tr>\n",
       "      <th>5</th>\n",
       "      <td>days_since_last_transaction</td>\n",
       "      <td>0.481970</td>\n",
       "    </tr>\n",
       "    <tr>\n",
       "      <th>16</th>\n",
       "      <td>transactions_last_30d</td>\n",
       "      <td>0.110718</td>\n",
       "    </tr>\n",
       "    <tr>\n",
       "      <th>15</th>\n",
       "      <td>spend_last_30d</td>\n",
       "      <td>0.095720</td>\n",
       "    </tr>\n",
       "    <tr>\n",
       "      <th>7</th>\n",
       "      <td>total_transactions</td>\n",
       "      <td>0.038391</td>\n",
       "    </tr>\n",
       "    <tr>\n",
       "      <th>14</th>\n",
       "      <td>unique_merchants</td>\n",
       "      <td>0.024563</td>\n",
       "    </tr>\n",
       "    <tr>\n",
       "      <th>8</th>\n",
       "      <td>unique_transaction_days</td>\n",
       "      <td>0.024131</td>\n",
       "    </tr>\n",
       "    <tr>\n",
       "      <th>10</th>\n",
       "      <td>avg_spend_per_transaction</td>\n",
       "      <td>0.015475</td>\n",
       "    </tr>\n",
       "    <tr>\n",
       "      <th>11</th>\n",
       "      <td>spend_std</td>\n",
       "      <td>0.013886</td>\n",
       "    </tr>\n",
       "    <tr>\n",
       "      <th>13</th>\n",
       "      <td>min_spend</td>\n",
       "      <td>0.013398</td>\n",
       "    </tr>\n",
       "    <tr>\n",
       "      <th>29</th>\n",
       "      <td>category_transactions_eCommerce</td>\n",
       "      <td>0.013357</td>\n",
       "    </tr>\n",
       "    <tr>\n",
       "      <th>9</th>\n",
       "      <td>total_spend</td>\n",
       "      <td>0.013123</td>\n",
       "    </tr>\n",
       "    <tr>\n",
       "      <th>23</th>\n",
       "      <td>category_spend_F&amp;B</td>\n",
       "      <td>0.012843</td>\n",
       "    </tr>\n",
       "    <tr>\n",
       "      <th>6</th>\n",
       "      <td>days_since_first_transaction</td>\n",
       "      <td>0.012733</td>\n",
       "    </tr>\n",
       "    <tr>\n",
       "      <th>22</th>\n",
       "      <td>app_opens_per_login</td>\n",
       "      <td>0.012210</td>\n",
       "    </tr>\n",
       "    <tr>\n",
       "      <th>3</th>\n",
       "      <td>end_to_start_days</td>\n",
       "      <td>0.011833</td>\n",
       "    </tr>\n",
       "    <tr>\n",
       "      <th>25</th>\n",
       "      <td>category_spend_eCommerce</td>\n",
       "      <td>0.011489</td>\n",
       "    </tr>\n",
       "    <tr>\n",
       "      <th>20</th>\n",
       "      <td>total_engagement</td>\n",
       "      <td>0.011403</td>\n",
       "    </tr>\n",
       "    <tr>\n",
       "      <th>12</th>\n",
       "      <td>max_spend</td>\n",
       "      <td>0.011230</td>\n",
       "    </tr>\n",
       "    <tr>\n",
       "      <th>27</th>\n",
       "      <td>category_transactions_F&amp;B</td>\n",
       "      <td>0.009725</td>\n",
       "    </tr>\n",
       "    <tr>\n",
       "      <th>19</th>\n",
       "      <td>app_opens</td>\n",
       "      <td>0.009639</td>\n",
       "    </tr>\n",
       "    <tr>\n",
       "      <th>21</th>\n",
       "      <td>redemption_rate</td>\n",
       "      <td>0.008138</td>\n",
       "    </tr>\n",
       "    <tr>\n",
       "      <th>24</th>\n",
       "      <td>category_spend_Retail</td>\n",
       "      <td>0.008007</td>\n",
       "    </tr>\n",
       "    <tr>\n",
       "      <th>1</th>\n",
       "      <td>age_group</td>\n",
       "      <td>0.007658</td>\n",
       "    </tr>\n",
       "    <tr>\n",
       "      <th>28</th>\n",
       "      <td>category_transactions_Retail</td>\n",
       "      <td>0.007297</td>\n",
       "    </tr>\n",
       "    <tr>\n",
       "      <th>2</th>\n",
       "      <td>state</td>\n",
       "      <td>0.004047</td>\n",
       "    </tr>\n",
       "    <tr>\n",
       "      <th>26</th>\n",
       "      <td>category_spend_Travel</td>\n",
       "      <td>0.003489</td>\n",
       "    </tr>\n",
       "    <tr>\n",
       "      <th>17</th>\n",
       "      <td>monthly_logins</td>\n",
       "      <td>0.003394</td>\n",
       "    </tr>\n",
       "    <tr>\n",
       "      <th>18</th>\n",
       "      <td>redemptions</td>\n",
       "      <td>0.003260</td>\n",
       "    </tr>\n",
       "    <tr>\n",
       "      <th>0</th>\n",
       "      <td>tier</td>\n",
       "      <td>0.002414</td>\n",
       "    </tr>\n",
       "    <tr>\n",
       "      <th>4</th>\n",
       "      <td>tier_numeric</td>\n",
       "      <td>0.002316</td>\n",
       "    </tr>\n",
       "    <tr>\n",
       "      <th>30</th>\n",
       "      <td>category_transactions_Travel</td>\n",
       "      <td>0.002145</td>\n",
       "    </tr>\n",
       "  </tbody>\n",
       "</table>\n",
       "</div>"
      ],
      "text/plain": [
       "                            feature  importance\n",
       "5       days_since_last_transaction    0.481970\n",
       "16            transactions_last_30d    0.110718\n",
       "15                   spend_last_30d    0.095720\n",
       "7                total_transactions    0.038391\n",
       "14                 unique_merchants    0.024563\n",
       "8           unique_transaction_days    0.024131\n",
       "10        avg_spend_per_transaction    0.015475\n",
       "11                        spend_std    0.013886\n",
       "13                        min_spend    0.013398\n",
       "29  category_transactions_eCommerce    0.013357\n",
       "9                       total_spend    0.013123\n",
       "23               category_spend_F&B    0.012843\n",
       "6      days_since_first_transaction    0.012733\n",
       "22              app_opens_per_login    0.012210\n",
       "3                 end_to_start_days    0.011833\n",
       "25         category_spend_eCommerce    0.011489\n",
       "20                 total_engagement    0.011403\n",
       "12                        max_spend    0.011230\n",
       "27        category_transactions_F&B    0.009725\n",
       "19                        app_opens    0.009639\n",
       "21                  redemption_rate    0.008138\n",
       "24            category_spend_Retail    0.008007\n",
       "1                         age_group    0.007658\n",
       "28     category_transactions_Retail    0.007297\n",
       "2                             state    0.004047\n",
       "26            category_spend_Travel    0.003489\n",
       "17                   monthly_logins    0.003394\n",
       "18                      redemptions    0.003260\n",
       "0                              tier    0.002414\n",
       "4                      tier_numeric    0.002316\n",
       "30     category_transactions_Travel    0.002145"
      ]
     },
     "execution_count": 266,
     "metadata": {},
     "output_type": "execute_result"
    }
   ],
   "source": [
    "analyze_feature_importance(model_results)"
   ]
  },
  {
   "cell_type": "markdown",
   "id": "d65887ea",
   "metadata": {},
   "source": [
    "## Key Churn Drivers & What We Can Act On\n",
    "days_since_last_transaction (i.e. Essentially Frequency of Spending which covers all the other columns like days_since_last_transaction, transactions_last_30d)\n",
    "- Strongest signal of churn. The longer someone hasn’t transacted, the more likely they are to drop off.\n",
    "- Action: Trigger re-engagement campaigns for users inactive beyond key thresholds (e.g. 30, 60 days) to prompt a return. This could be a personalised notification that gives them a special privellege or extra points if they decide to amek a transaction within that time period"
   ]
  }
 ],
 "metadata": {
  "kernelspec": {
   "display_name": "bonuslink",
   "language": "python",
   "name": "python3"
  },
  "language_info": {
   "codemirror_mode": {
    "name": "ipython",
    "version": 3
   },
   "file_extension": ".py",
   "mimetype": "text/x-python",
   "name": "python",
   "nbconvert_exporter": "python",
   "pygments_lexer": "ipython3",
   "version": "3.10.18"
  }
 },
 "nbformat": 4,
 "nbformat_minor": 5
}
